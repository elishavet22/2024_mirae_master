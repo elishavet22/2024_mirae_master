{
  "cells": [
    {
      "cell_type": "markdown",
      "metadata": {
        "id": "view-in-github",
        "colab_type": "text"
      },
      "source": [
        "<a href=\"https://colab.research.google.com/github/elishavet22/2024_mirae_master/blob/main/1%EC%9D%BC%EC%B0%A8_%ED%8C%8C%EC%9D%B4%EC%8D%AC%EA%B8%B0%EC%B4%88%EB%8B%A4%EC%A7%80%EA%B8%B0_%EC%8B%A4%EC%8A%B5_ipynb%EC%9D%98_%EC%82%AC%EB%B3%B8.ipynb\" target=\"_parent\"><img src=\"https://colab.research.google.com/assets/colab-badge.svg\" alt=\"Open In Colab\"/></a>"
      ]
    },
    {
      "cell_type": "markdown",
      "metadata": {
        "id": "zRxHpy-28GGG"
      },
      "source": [
        "# 1일차-파이썬 기초 다지기"
      ]
    },
    {
      "cell_type": "markdown",
      "metadata": {
        "id": "VRVM91mPB34V"
      },
      "source": [
        "## 1.파이썬 이해하기"
      ]
    },
    {
      "cell_type": "markdown",
      "metadata": {
        "id": "LH9HG0_IyI3e"
      },
      "source": [
        "#파이썬\n",
        "##파이썬\n",
        "###파이썬\n"
      ]
    },
    {
      "cell_type": "markdown",
      "source": [],
      "metadata": {
        "id": "zwv4K3p2u05U"
      }
    },
    {
      "cell_type": "markdown",
      "metadata": {
        "id": "hOwZhukd8GGK"
      },
      "source": [
        "### 파이썬 버전 확인"
      ]
    },
    {
      "cell_type": "code",
      "execution_count": null,
      "metadata": {
        "colab": {
          "base_uri": "https://localhost:8080/"
        },
        "id": "WCJ5nbOTB5ZF",
        "outputId": "08f23128-2dc4-4846-c0d1-2d392e4314b3"
      },
      "outputs": [
        {
          "name": "stdout",
          "output_type": "stream",
          "text": [
            "Python 3.10.12\n"
          ]
        }
      ],
      "source": [
        "!python --version"
      ]
    },
    {
      "cell_type": "code",
      "execution_count": null,
      "metadata": {
        "colab": {
          "base_uri": "https://localhost:8080/",
          "height": 54
        },
        "id": "kTWXu2rZxuek",
        "outputId": "597cb1ec-5cbe-46d6-968b-2909ea078a96"
      },
      "outputs": [
        {
          "name": "stdout",
          "output_type": "stream",
          "text": [
            "3.10.12 (main, Sep 11 2024, 15:47:36) [GCC 11.4.0]\n"
          ]
        },
        {
          "data": {
            "application/vnd.google.colaboratory.intrinsic+json": {
              "type": "string"
            },
            "text/plain": [
              "'3.10.12 (main, Sep 11 2024, 15:47:36) [GCC 11.4.0]'"
            ]
          },
          "execution_count": 4,
          "metadata": {},
          "output_type": "execute_result"
        }
      ],
      "source": [
        "import sys\n",
        "print(sys.version)\n",
        "sys.version"
      ]
    },
    {
      "cell_type": "markdown",
      "metadata": {
        "id": "HAFtSTG28GGL"
      },
      "source": [
        "### 파이썬 설치 위치 확인"
      ]
    },
    {
      "cell_type": "code",
      "execution_count": null,
      "metadata": {
        "colab": {
          "background_save": true
        },
        "id": "46cMOIHW8GGM",
        "outputId": "aa7e1bcb-d4d7-4121-9470-9ae5467f3815"
      },
      "outputs": [
        {
          "data": {
            "application/vnd.google.colaboratory.intrinsic+json": {
              "type": "string"
            },
            "text/plain": [
              "'/usr/bin/python3'"
            ]
          },
          "execution_count": 6,
          "metadata": {},
          "output_type": "execute_result"
        }
      ],
      "source": [
        "sys.executable"
      ]
    },
    {
      "cell_type": "markdown",
      "metadata": {
        "id": "BVZeLUFeILol"
      },
      "source": [
        "### [실습] 파이썬 정보 확인하기\n",
        "\n",
        "\n",
        "1.   설치된 파이썬 버전 출력하기\n",
        "2.   파이썬 실행파일 위치 출력하기\n",
        "\n"
      ]
    },
    {
      "cell_type": "code",
      "execution_count": null,
      "metadata": {
        "id": "wYTlynjPIaj4"
      },
      "outputs": [],
      "source": [
        "import sys\n",
        "\n",
        "print(f'설치된 파이썬 버전: { }')\n",
        "print(f'파이썬 실행파일 위치: { }')"
      ]
    },
    {
      "cell_type": "markdown",
      "metadata": {
        "id": "KE15Fd6jCbUK"
      },
      "source": [
        "### 라이브러리 설치하기"
      ]
    },
    {
      "cell_type": "code",
      "execution_count": null,
      "metadata": {
        "id": "PlG-i1fYCbdI"
      },
      "outputs": [],
      "source": [
        "!pip install missingno"
      ]
    },
    {
      "cell_type": "markdown",
      "metadata": {
        "id": "3peceTCrCuXS"
      },
      "source": [
        "### 라이브러리 삭제하기"
      ]
    },
    {
      "cell_type": "code",
      "execution_count": null,
      "metadata": {
        "id": "CO9pIWvq8GGN",
        "scrolled": true
      },
      "outputs": [],
      "source": [
        "!pip uninstall missingno"
      ]
    },
    {
      "cell_type": "markdown",
      "metadata": {
        "id": "5KtJAiS08GGO"
      },
      "source": [
        "### 설치된 라이브러리 확인(전체)"
      ]
    },
    {
      "cell_type": "code",
      "execution_count": null,
      "metadata": {
        "id": "0bsTdq6y8GGO"
      },
      "outputs": [],
      "source": [
        "pip list"
      ]
    },
    {
      "cell_type": "markdown",
      "metadata": {
        "id": "G_IjDeFh8GGP"
      },
      "source": [
        "### 설치된 라이브러리 확인(특정 라이브러리)"
      ]
    },
    {
      "cell_type": "code",
      "execution_count": null,
      "metadata": {
        "id": "TqvE9YpV8GGP"
      },
      "outputs": [],
      "source": [
        "pip show numpy"
      ]
    },
    {
      "cell_type": "markdown",
      "metadata": {
        "id": "KSNOrnoMHEjD"
      },
      "source": [
        "### 파이썬 오류 확인"
      ]
    },
    {
      "cell_type": "code",
      "execution_count": null,
      "metadata": {
        "id": "B8pmiTi5G8JX",
        "colab": {
          "base_uri": "https://localhost:8080/",
          "height": 109
        },
        "outputId": "40ef79fb-7209-4876-d16d-5a9e33db8c89"
      },
      "outputs": [
        {
          "output_type": "error",
          "ename": "SyntaxError",
          "evalue": "expected ':' (<ipython-input-2-004ae6443a6e>, line 3)",
          "traceback": [
            "\u001b[0;36m  File \u001b[0;32m\"<ipython-input-2-004ae6443a6e>\"\u001b[0;36m, line \u001b[0;32m3\u001b[0m\n\u001b[0;31m    if 'a < 9'\u001b[0m\n\u001b[0m              ^\u001b[0m\n\u001b[0;31mSyntaxError\u001b[0m\u001b[0;31m:\u001b[0m expected ':'\n"
          ]
        }
      ],
      "source": [
        "# Syntax 오류 발생 예\n",
        "a = 1\n",
        "if 'a < 9'\n",
        "    print('a < 9')"
      ]
    },
    {
      "cell_type": "code",
      "source": [],
      "metadata": {
        "id": "JVey9BI9TMup"
      },
      "execution_count": null,
      "outputs": []
    },
    {
      "cell_type": "code",
      "source": [],
      "metadata": {
        "id": "aP1ZeT9XTM_Z"
      },
      "execution_count": null,
      "outputs": []
    },
    {
      "cell_type": "markdown",
      "metadata": {
        "id": "DJQhC7btE_L5"
      },
      "source": [
        "### 파이썬 예외처리 방법"
      ]
    },
    {
      "cell_type": "code",
      "execution_count": null,
      "metadata": {
        "id": "GJ1Y-0wMHXJd"
      },
      "outputs": [],
      "source": [
        "# 오류 예외처리\n",
        "while True:\n",
        "    try:\n",
        "        x = int(input('Please enter a number: '))\n",
        "        break\n",
        "\n",
        "    except ValueError:\n",
        "        print('Oops! That was no valid number. Try again...')\n",
        "\n",
        "print('-----')"
      ]
    },
    {
      "cell_type": "markdown",
      "metadata": {
        "id": "6Ef7gKpD8GGP"
      },
      "source": [
        "### [PC에서만 실행] 수업에 사용할 라이브러리 설치하기\n",
        "- PC 윈도우 명령프롬프트에서 실행한다. 코랩에서는 실행 안함\n",
        "- PC에서는 명령어 맨 앞 '!'를 제거하고 실행한다."
      ]
    },
    {
      "cell_type": "code",
      "execution_count": null,
      "metadata": {
        "id": "ViukrDAGDuPc"
      },
      "outputs": [],
      "source": [
        "!python -m pip install --upgrade pip"
      ]
    },
    {
      "cell_type": "code",
      "execution_count": null,
      "metadata": {
        "id": "WnEwfA_x8GGQ"
      },
      "outputs": [],
      "source": [
        "!pip install numpy"
      ]
    },
    {
      "cell_type": "code",
      "execution_count": null,
      "metadata": {
        "id": "ZqJSQDet8GGQ"
      },
      "outputs": [],
      "source": [
        "!pip install pandas"
      ]
    },
    {
      "cell_type": "code",
      "execution_count": null,
      "metadata": {
        "id": "JtYjHD2D8GGQ"
      },
      "outputs": [],
      "source": [
        "!pip install matplotlib"
      ]
    },
    {
      "cell_type": "code",
      "execution_count": null,
      "metadata": {
        "id": "BRSzhspAC6J8"
      },
      "outputs": [],
      "source": [
        "!pip install seaborn"
      ]
    },
    {
      "cell_type": "code",
      "execution_count": null,
      "metadata": {
        "id": "8spH-HIwC6Sz"
      },
      "outputs": [],
      "source": [
        "!pip install ploty"
      ]
    },
    {
      "cell_type": "markdown",
      "metadata": {
        "id": "wl2PYxtB8GGR"
      },
      "source": [
        "----------"
      ]
    },
    {
      "cell_type": "markdown",
      "metadata": {
        "id": "T20_kqnwDKe2"
      },
      "source": [
        "## 2.파이썬 자료형과 연산자"
      ]
    },
    {
      "cell_type": "markdown",
      "metadata": {
        "id": "rxo68HToTgT0"
      },
      "source": [
        "### **[자료형]**"
      ]
    },
    {
      "cell_type": "markdown",
      "metadata": {
        "id": "GPQdotYg8GGR"
      },
      "source": [
        "### 파이썬 자료형 확인"
      ]
    },
    {
      "cell_type": "code",
      "execution_count": null,
      "metadata": {
        "id": "re9ioSIM8GGR"
      },
      "outputs": [],
      "source": [
        "d1 = 123\n",
        "d2 = '123'\n",
        "d3 = [123]\n",
        "d4 = (123,)\n",
        "d5 = {'key':123}\n",
        "d6 = {123}\n",
        "d7 = True\n",
        "\n",
        "print(f'{d1}의 자료형: {type(d1)}')\n",
        "print(f'{d2}의 자료형: {type(d2)}')\n",
        "print(f'{d3}의 자료형: {type(d3)}')\n",
        "print(f'{d4}의 자료형: {type(d4)}')\n",
        "print(f'{d5}의 자료형: {type(d5)}')\n",
        "print(f'{d6}의 자료형: {type(d6)}')\n",
        "print(f'{d7}의 자료형: {type(d7)}')"
      ]
    },
    {
      "cell_type": "markdown",
      "metadata": {
        "id": "H7bSljnRIERc"
      },
      "source": [
        "### [실습문제] 반복문을 이용하여 자료형 출력하기\n",
        "위 자료형을 아래 미션에 맞게 출력해 보세요."
      ]
    },
    {
      "cell_type": "code",
      "execution_count": null,
      "metadata": {
        "colab": {
          "base_uri": "https://localhost:8080/",
          "height": 109
        },
        "id": "gbzIvlUi8GGR",
        "outputId": "0d906f9c-230b-4ca7-cba7-386701101669",
        "scrolled": true
      },
      "outputs": [
        {
          "ename": "SyntaxError",
          "evalue": "unterminated string literal (detected at line 6) (<ipython-input-17-79b1c617706e>, line 6)",
          "output_type": "error",
          "traceback": [
            "\u001b[0;36m  File \u001b[0;32m\"<ipython-input-17-79b1c617706e>\"\u001b[0;36m, line \u001b[0;32m6\u001b[0m\n\u001b[0;31m    print(f'데이터: {data}의 자료형은: {type(data)})\u001b[0m\n\u001b[0m          ^\u001b[0m\n\u001b[0;31mSyntaxError\u001b[0m\u001b[0;31m:\u001b[0m unterminated string literal (detected at line 6)\n"
          ]
        }
      ],
      "source": [
        "# [미션] 리스트와 반복문을 이용하여 간단하게 나타내기\n",
        "datas = [123,'123',[123],(123,),{'key':123},{123},True]\n",
        "print(type(datas))\n",
        "\n",
        "for data in datas:\n",
        "    print(f'데이터: {data}의 자료형은: {type(data)})"
      ]
    },
    {
      "cell_type": "code",
      "execution_count": null,
      "metadata": {
        "colab": {
          "base_uri": "https://localhost:8080/",
          "height": 109
        },
        "id": "O-yRJZE590ez",
        "outputId": "6527e48f-31b5-40f2-a446-2ffe4ee896eb"
      },
      "outputs": [
        {
          "ename": "SyntaxError",
          "evalue": "unterminated string literal (detected at line 5) (<ipython-input-18-5f7f0a0fa362>, line 5)",
          "output_type": "error",
          "traceback": [
            "\u001b[0;36m  File \u001b[0;32m\"<ipython-input-18-5f7f0a0fa362>\"\u001b[0;36m, line \u001b[0;32m5\u001b[0m\n\u001b[0;31m    print(f'데이터: {data}의 자료형은: {type(data)})\u001b[0m\n\u001b[0m          ^\u001b[0m\n\u001b[0;31mSyntaxError\u001b[0m\u001b[0;31m:\u001b[0m unterminated string literal (detected at line 5)\n"
          ]
        }
      ],
      "source": [
        "datas = [123,'123',[123],(123,),{'key':123},{123},True]\n",
        "print(type(datas))\n",
        "\n",
        "for data in datas:\n",
        "    print(f'데이터: {data}의 자료형은: {type(data)})"
      ]
    },
    {
      "cell_type": "code",
      "execution_count": null,
      "metadata": {
        "id": "NWidd31E8gES"
      },
      "outputs": [],
      "source": []
    },
    {
      "cell_type": "code",
      "execution_count": null,
      "metadata": {
        "id": "PMDfoepfF7K4"
      },
      "outputs": [],
      "source": [
        "# [미션] isinstance()함수를 이용하여 데이터 타입 확인\n",
        "def get_datatype(data):\n",
        "    instance= {int:'정수', float:'실수', str:'문자열', bool:'불린',\n",
        "           list:'리스트', tuple:'튜플', dict:'딕셔너리', set:'집합' }\n",
        "    for key, value in instance.items():\n",
        "        if isinstance(data, key):\n",
        "            print(f'{data}는 {value} 형입니다.')\n",
        "\n",
        "for data in datas:\n",
        "    get_datatype(data)"
      ]
    },
    {
      "cell_type": "markdown",
      "metadata": {
        "id": "Qv7p8JOYJdMf"
      },
      "source": [
        "### [표준입출력]"
      ]
    },
    {
      "cell_type": "markdown",
      "metadata": {
        "id": "EDFiaZyv8GGR"
      },
      "source": [
        "### 실습문제\n",
        "두 수를 입력 받아 덧셈, 뺄셈, 곱셈, 몫, 나머지를 출력하는 프로그램을 작성하세요\n"
      ]
    },
    {
      "cell_type": "code",
      "execution_count": null,
      "metadata": {
        "colab": {
          "base_uri": "https://localhost:8080/"
        },
        "id": "a9sG7Q738GGS",
        "outputId": "736c283c-7a01-4827-fb67-6cdfdfa5f9a7",
        "scrolled": true
      },
      "outputs": [
        {
          "name": "stdout",
          "output_type": "stream",
          "text": [
            "첫번째 숫자: 50\n",
            "두번째 숫자: 3\n",
            "------------------------------\n",
            " 덧셈 : 50 + 3 = 53\n",
            " 뺄셈: 50 - 3 = 47\n",
            " 곱셈: 50 * 3 = 150\n",
            " 몫 : 50 // 3 = 16\n",
            " 나머지: 50 % 3 = 2\n"
          ]
        }
      ],
      "source": [
        "num1 = input('첫번째 숫자: ')\n",
        "num2 = input('두번째 숫자: ')\n",
        "num1 = int(num1)\n",
        "num2 = int(num2)\n",
        "print ('-'*30)\n",
        "print (f' 덧셈 : {num1} + {num2} = {num1 + num2}')\n",
        "print (f' 뺄셈: {num1} - {num2} = {num1 - num2}')\n",
        "print (f' 곱셈: {num1} * {num2} = {num1 * num2}')\n",
        "print (f' 몫 : {num1} // {num2} = {num1 // num2}')\n",
        "print (f' 나머지: {num1} % {num2} = {num1 % num2}')"
      ]
    },
    {
      "cell_type": "markdown",
      "metadata": {
        "id": "LqAbyRHs8GGS"
      },
      "source": [
        "### 실습문제: 시간 계산 프로그램\n",
        "속력과 거리를 입력 받아 시간을 계산하여 출력하는 프로그램을 만드세요!\n",
        "- 시간 = 거리 / 속력\n",
        "\n"
      ]
    },
    {
      "cell_type": "code",
      "execution_count": null,
      "metadata": {
        "id": "YwepfYt98GGS"
      },
      "outputs": [],
      "source": [
        "velocity = input('속력를 입력해 주세요(km/h) : ')\n",
        "distance = input('거리를 입력해 주세요(km) : ')\n",
        "\n"
      ]
    },
    {
      "cell_type": "markdown",
      "metadata": {
        "id": "sHIxGA0xLj0C"
      },
      "source": [
        "- eval()함수 사용하여 문자열을 계산할 수 있다"
      ]
    },
    {
      "cell_type": "code",
      "execution_count": null,
      "metadata": {
        "id": "gvVxuLjX8GGS"
      },
      "outputs": [],
      "source": [
        "# eval()함수 사용\n",
        "time = eval(f'{distance} / {velocity}')\n",
        "print(time)"
      ]
    },
    {
      "cell_type": "markdown",
      "metadata": {
        "id": "tECEWKan8GGS"
      },
      "source": [
        "### 실습문제 : 정수 합 구하기\n",
        "아래와 같이 정수 n을 입력 받아, a + aa + aaa의 결과 값을 구하는 프로그램을 작성하세요"
      ]
    },
    {
      "cell_type": "code",
      "execution_count": null,
      "metadata": {
        "colab": {
          "base_uri": "https://localhost:8080/"
        },
        "id": "a04GPnn98GGS",
        "outputId": "b1c85fcf-e329-4d93-dbc0-575a4f0ac982",
        "scrolled": true
      },
      "outputs": [
        {
          "name": "stdout",
          "output_type": "stream",
          "text": [
            "정수를 입력하세요: 7\n",
            " 7 + 77 + 777 = 861\n"
          ]
        }
      ],
      "source": [
        "\n",
        "a = int(input('정수를 입력하세요: '))\n",
        "aa = int(str(a) * 2)\n",
        "aaa = int(str(a) * 3)\n",
        "\n",
        "result = a + aa + aaa\n",
        "\n",
        "print(f' {a} + {aa} + {aaa} = {result}')\n",
        "\n",
        "\n"
      ]
    },
    {
      "cell_type": "markdown",
      "metadata": {
        "id": "SHkqIiXbJXrR"
      },
      "source": [
        "### [문자와 문자열]"
      ]
    },
    {
      "cell_type": "markdown",
      "metadata": {
        "id": "kc4LrgAHJw4f"
      },
      "source": [
        "### 실습문제 : 문자열 거꾸로 출력하기"
      ]
    },
    {
      "cell_type": "code",
      "execution_count": null,
      "metadata": {
        "colab": {
          "base_uri": "https://localhost:8080/"
        },
        "id": "_QpSs-GCJvyH",
        "outputId": "2984970e-8709-4d27-d409-5bdbec5f5455"
      },
      "outputs": [
        {
          "name": "stdout",
          "output_type": "stream",
          "text": [
            "문자열 입력: 안녕하세요~! 김미선\n",
            "선미김 !~요세하녕안\n"
          ]
        }
      ],
      "source": [
        "\n",
        "s = input('문자열 입력: ')\n",
        "print(s[::-1]) #[start:end::step] start<= index < end"
      ]
    },
    {
      "cell_type": "markdown",
      "metadata": {
        "id": "t1KHQyvnJrj3"
      },
      "source": [
        "### 실습문제: 간단 챗봇 만들기\n"
      ]
    },
    {
      "cell_type": "code",
      "execution_count": null,
      "metadata": {
        "colab": {
          "base_uri": "https://localhost:8080/"
        },
        "id": "Fg-QYkDPJr14",
        "outputId": "27846053-9e13-4172-d08c-15bd8b9e6819"
      },
      "outputs": [
        {
          "name": "stdout",
          "output_type": "stream",
          "text": [
            "안녕하세요~\n",
            "당신의 이름은 뭐예요?: 김미선\n",
            "만나서 반갑습니다. 김미선님\n",
            "김미선님의 이름의 길이는 다음과 같습니다.:3\n",
            "김미선님 나이가 어떻게 되나요?45\n",
            "내년에는 46세가 되시는군요!\n"
          ]
        }
      ],
      "source": [
        "# 간단한 챗봇 만들기\n",
        "print('안녕하세요~')\n",
        "name = input('당신의 이름은 뭐예요?: ')\n",
        "print(f'만나서 반갑습니다. {name}님')\n",
        "print(f'{name}님의 이름의 길이는 다음과 같습니다.:{len(name)}')\n",
        "age = input(f'{name}님 나이가 어떻게 되나요?' )\n",
        "print(f'내년에는 {int(age)+1}세가 되시는군요!')\n"
      ]
    },
    {
      "cell_type": "markdown",
      "metadata": {
        "id": "Hb6l5EjLQB2m"
      },
      "source": [
        "### 실습문제 :  구글TTS(gTTS) 사용하여 음성 출력하기\n",
        "TTS : Text to Speech"
      ]
    },
    {
      "cell_type": "markdown",
      "metadata": {
        "id": "MKZzJ2iCMu9b"
      },
      "source": []
    },
    {
      "cell_type": "code",
      "execution_count": null,
      "metadata": {
        "colab": {
          "base_uri": "https://localhost:8080/"
        },
        "id": "-eY--f6MPwTf",
        "outputId": "a57e4a64-3081-47c3-a95a-96de5721651a"
      },
      "outputs": [
        {
          "name": "stdout",
          "output_type": "stream",
          "text": [
            "Collecting gTTS\n",
            "  Downloading gTTS-2.5.3-py3-none-any.whl.metadata (4.1 kB)\n",
            "Requirement already satisfied: requests<3,>=2.27 in /usr/local/lib/python3.10/dist-packages (from gTTS) (2.32.3)\n",
            "Requirement already satisfied: click<8.2,>=7.1 in /usr/local/lib/python3.10/dist-packages (from gTTS) (8.1.7)\n",
            "Requirement already satisfied: charset-normalizer<4,>=2 in /usr/local/lib/python3.10/dist-packages (from requests<3,>=2.27->gTTS) (3.3.2)\n",
            "Requirement already satisfied: idna<4,>=2.5 in /usr/local/lib/python3.10/dist-packages (from requests<3,>=2.27->gTTS) (3.10)\n",
            "Requirement already satisfied: urllib3<3,>=1.21.1 in /usr/local/lib/python3.10/dist-packages (from requests<3,>=2.27->gTTS) (2.2.3)\n",
            "Requirement already satisfied: certifi>=2017.4.17 in /usr/local/lib/python3.10/dist-packages (from requests<3,>=2.27->gTTS) (2024.8.30)\n",
            "Downloading gTTS-2.5.3-py3-none-any.whl (29 kB)\n",
            "Installing collected packages: gTTS\n",
            "Successfully installed gTTS-2.5.3\n"
          ]
        }
      ],
      "source": [
        "# 구글 tts 프로그램\n",
        "!pip install gTTS"
      ]
    },
    {
      "cell_type": "code",
      "execution_count": null,
      "metadata": {
        "colab": {
          "base_uri": "https://localhost:8080/",
          "height": 75
        },
        "id": "O_xqpl0pPx6k",
        "outputId": "676cfe81-e771-4dc0-d73c-8ab2f19912ff"
      },
      "outputs": [
        {
          "data": {
            "text/html": [
              "\n",
              "                <audio  controls=\"controls\" autoplay=\"autoplay\">\n",
              "                    <source src=\"data:audio/x-wav;base64,//OExAAAAAAAAAAAAAAAAAAAAAAAAAAAAAAAAAAAAAAAAAAAAAAAAAAAAAAAAAAAAAAAAAAAAAAAAAAAAAAAAAAAAAAAAAAAAAAAAAAAAAAAAAAAAAAAAAAAAAAAAAAAAAAAAAAAAAAAAAAAAAAAAAAAAAAAAAAAAAAAAAAAAAAAAAAAAAAAAAAAAAAAAAAAAAAAAAAAAAAAAAAAAAAAAAAAAAAAAAAAAAAAAAAAAAAAAAAAAAAAAAAAAAAAAAAA//OExAAla14MAMJGvS4iUppKt+UOw7kU/uMvp43bpJK/aAAhgoCDMhQ5BCKOrRt1qBBCsnKFIGIQgQEmQtRjwgpCaNufXR7X81EGb5pwtCc0AABEACPDgbnuLiO7/wvP9E+i+u51y9ELRH3Pd/CCC0ABCJ13d3eGiIhIILosyvm7u8Qg4uvu7xP3PocWkEHmQA9/WonmDwBOP6PwQMACN3R4egogBwEvJJFoIlr9xh2IjHoZi+IhjmmjSFlGd3HB//OExB0mYgo4AMsSmUEgKyQctRYsTnxsWBDLd7uNOMMOn6EDQ82tIVTCmBcC6IAQi2jkggsaJIe7Xby5IGIfEEG27momRk+3RQkmpCWZdMXPWMvdUYtHVkmI7gdaVAFWnmdyBJoB/VXHlsH+rJ0p/2ds8XV9t2vToj9XHat/4u/7KedeS3vx893aIDJzuLaxgicsReH4bS/ZO/lZiDYWhnsZBPBXDREUEXAxljDHFKKUl6mhnOaaHLo9VeZZCz+L//OExDY0uvZUAMPeuAEEMhaL4OBlJkJoLAcC55+ISm3M/DlLGo0Mhui/o9Fo5kT5iFOOBhLe5qw/Dwa0e+Vicex48SqrwwG4LAoEMYy4KUvaydbc0MB/oxTqOMyTM9pqq+ycrRWUXaMurEWhcJkhwozxkjpxtj53l/vMCVn3dOKB48gakZGRXx85vulM0if5hv4+73van+Ig4EyE+wmUvD9NWnyiG+2Gb9dMFrij6sZ+xxKxD1VeThUaFmgShnPc//OExBYq2nZ4AHvYuIWP8FmPpUi0LQ304YC+ZKnhrhKP3Muh+Kg7C/tSlLnRnK9Xq1ba80WlArIkCAZfgRj8GAnlYQAb+gkyxRXr68wxFR9y7f68+XIU8srsPjm5aXsuFPMyjN7Tznxz13KrmF/tLEJSwsbO1lIkN/Gqbr9UkET2w4ZOC8OKDQaJLNntCDIOXhCsOHFnCgtubFeXul6Ljn3yConI59fZryHrAhE1IcQTquBAkzHXm3DRXbEEfEOE//OExB0sUmqAAMPYuN0kL0nI+y5PR8pMS5QLLK4H8rm4nDw0CfnOiB9pBNHohKFMTxCor9yc4sBSoY7ywOUEtqyXJgHSekPiiXm4stDNbHzVlzeT1nO5mZeOWrUOTKGOls2j/2v3XitjDD+RVmkErVs/sWOW9xiXL0tWdioZcVIvFHCzDvWkmsdaRLJVPCoGidDyAu9KIlLRl4qppDOqR4lqmaD14oOmLWA0er9dKlhJsZuWluwS/ggFQiHCwZQV//OExB4tQ3aIAN6KvIw6hgzRyCi9VKokocKJwVToIzVgUxJFLOGYo3VWszQ53HzjCXzsNdl0zSRudf+tdv149Dm90tPQ/lhZitevajcJjbDKW5n/g6KQrmHGcSIouNOLDJCDFCYkIAILjyMlSMdBwUgcE0iYgzuNPM5x7WFnceRSten/P0Tr/K9d9f+p31zkc8rDDKqOw0eFFIyJJZ/CIyEEPajGEWKdrBjagJSEN2IAS3M6XwxvciD6VQI8YDHU//OExBwtu3qMAN5QvG42j9jLgE9S7ZJPQAQIj/ZfOpP8HLT1FIhXlpUdjU5aTF60qlSGTiWccarWop+XypwX7tfqxItf3OYdf8Zmyz1rl7C1wJgCBwbknAsESmUPHH9nHCi24iAvAOephaGpNhCDgwQhaFZtRDEheQcDU4XcaMPHRdTF//xM/xUdf/////1v28cVpLi/KOpSHs7JR0d7VI+xo0q1+RfVqPlzstC4XKGg20VgVYxiBJAZLKEu01VW//OExBgtM0aMAOaavONLx4bbulQUKIRh6gYjnJ6HkOpvJI1XjOFUGDSVgwGE1YClaSNvvKtl/73/jSx3Dv/afb//7sVy5/ZmKYZ6q8bjMd9Y1A7g8j2LqJcHCbIVOR1oVnRhEUThFDkh7NSVOl0xNEzUvHB7EjRosyDolReOupaLFvSS/Ttq////60Fs62RoqdZgYoGqjpqVnkq1mRos4NlguSv19Pq1vjWSRXW8REMpm4AjbvK0klAAwQlIyaCp//OExBYtc858AO7a3DlfaLmAgRmKBogZikIWTTcaMfQC8FaEvE18z+gB0U7tNMrlCgSUDctptyROZqXf1m+s5r//Uh/+/VnP/9U3f//y7z95ZV9Z5ZuzCKSmzoE9mmVO6uwzKq1mo4SgdUkO0B0jAmKWtuZDiPp1slfMi8/S//siggy7//+umugtF9qlpJL/VZSS0Uft6l1JO5hWugdrU63prqO2T2NUVY4gwGmJN/Wqw0IiXN0AOX26z9hgQmB7//OExBMqXBpsAO0U3RxzsIQkB7lTrUwcGJlSDjlZTAciAgIANfIgLmH0FuQQDgGJQ3ydc6NAL7J9MZJ+ocJq7qUSW6ll9rXMtKs8yl55SS0UibJFzGM8LLIimjMzEk7i4bOpIOgYBU3vrnee3//+nQ1Dtf/8+h9UKlJm7u3+0w7Vr+3U4mL5pw9IkY8445GIDRqQIRHKUU9jmNvZD1kpEfLyW2qhga3Jm/MFgZN9AoJgdYMu4UCUwBZITKgxYD4q//OExBwtHBpwAO0Q3YEo6JligoGPICvnST5DBHQLazpQJ8cgUGBuRIgYiBfJgXwNjhCdEcw9ZTkDfqJhl6iaPalmuy7qrybTZ50WQVCbL7E0LkJxq1mFV9BkP23kF7Xvz+lCQxX0k/6pv7nv/4/+37T/////4QcTA4fIu9zCdd/v/6dDnnipaOOvcvEMMCAtGj6mByufkFMMLneFivbR11ZIGVg7laG1XiC8wsLgCdEiAhicHssBodHB4zgIaXch//OExBosY6aEAO5O3PTkHAKMkicMSAEZ3HLsbETgQ5DEMPA3VEg4TWr3rlVbb/xfLmpuWY4YfhG7+v/cssf+e6TDf61n3P9bw7rn4yjlfvH+bGuuX28ZqnjE5z+kgcCWNzzSIAYBYvOE4ijJlj1HCZ7pIHvPkzDDN55/j7/9P/M+2ecpdzSbmuUsph1Xf3+3/6IzI6UKs6l5Vj7gqccTvTTKlxyFmcsaZ9RCTGcq5EFQm6zAAkp1wqZ2AqCStnAs//OExBsm4eqQAN7SmAZkZ4dkfCQxC7F1eQMC1R5z1x/gKSKkfiX2X1SFbbmf7iLiT+f61GpZY/9VyBBnrZQh/Gpt/0906dIEQ6GFJhVATGNyWsqMQhHDQoAIKRCDgNtm07pWoMLxWTbOBZgXuTQ1P/U+ysHAyZHmDVIqLppXq/0rKiZZRaan7xowYJzg9ZLhjlSqVBWaRE3qurwyGMPjSRYKYYSgDJkGDTYESRGnksTZKBl4FdiUCWJ4uh+QGdgB//OExDIoG6qQANzU3NwiqSKxWogQtqdjhASsi+ZF80Q0HJD51BtRxB0DE4TRCjMFSTJBSqeN3ZIxRSapIiFcfkZIwrAMiMIRnKmpuRD4oLYsGHkJCWJ285XWZWfVv///0feYQGMz1+jO23+n////qeSudfsHUih8QPa9Crufb1G00yNTJlVv4fghmSPxzOIGFL/KCxxnZiTacUeFADIoxPxgRFIYYNRm5ZeZ4FhmRWsccoab69//uUxTD//GI3f///OExEQjoeqQAN7SmOLGmM/6pja9UAwDm8VFIpFM99S1E7P4xjP3nBYFxWv4CojI29u1TmQXuNoAszx4GIud//YFAdFFhI0AhaY//1eyklV6CIwKF1RxKqHO5dgxWUYfphMGv82Coo4IBGZW7JjUJqpOC5UPgQLMW113v1D72yskIzt38oF+XHdbs9ywUCVKXHcAuZh//81Z/f/uArf/391ZzX/ysPY0Wy0TIG8MAan60iSNL5kZtqUotZE1LiZd//OExGgoGsaEAObauAly+XC8syJJSFZgSQ5j581ZReN2/7U3QdL////67O5gXgdDpwDGQTM8t/7E7HqHdtCRrAgBYfY1dZLFMK76IIwJJyKpKwLMQ3DgCYNDhsKoAbzAAAq6exaIGBRMpBJTB9Rlxjgt/ACIAbr0Ck4cZuaLJ0LfxgoH1USfaplx3fciX0Cdr6j7UVKE8COUuomC6q1MvmtdI6M+SnkhIPxaBknU2p5Vj7oQj0iO9f7m0MTT//////OExHonHBJ8AOUU3eyk5QkLj1qHmOaSnOyqyf//r9upk99aqpv//vVD5Q80j0UqVUSFa9PrpMCgg1MCjWYAQpUUMABcAhgxQez7caMKiRa6UiCEQBMw+RTk5cMagpFVlULeoCgAHAFc0/Wt24fgbedLz8O///cpcf/89y2z/61hll//rAvszgCABAFFyCi8ZM55MijKePi8aiKOniICgXCwAQyaiMcNkMMEgbiSPD562/5hm3////+p0ajpFxoW//OExJAn8sp4AOcOuIaU4Ju/11JkbdH/7A4VcE4hAJPqXRlwjAQDzQVpAMJz/LEb4wME4w1QU6UE0xABd1S5KgZg0Khn4Lhj6BSmqu64G4ACWDwLMhtGVfW/Ed6r91gT43fMN4za3JSZmxvdK2z/jGWtWxLwYKXQl7fO4z35r9Z14N7CYqSOLnmTrkGE4TExwiSIshz/+jr1v////01PZzTRwTDdzGQ0anH3//86fu23zn////q6obdZIccR2lDm//OExKMoJA5wAOvO3U7vLCmAIJGLhbHlB/g4mVN0JJgCDJhorBxF55sMSYoBiSoFBIAhUZkjEAiIBQjOqupRZkNTz3rggiOVUZ5hTnMzbtm8S2vvTeyxdbvAvF37yQc4+/PXH1SDRPMT+isebzTF9WhUxNOoVa2ibB4IgUOiI1hEjx4kEAsVVv////////llVFYYMGED7Mhn/p/S3K7N/6///8ttTOFlMLDpalZWHLClxh4DEwqxkjGgA/KwJxCA//OExLUoFAJkAOvK3SGAiAoYOgQBhkIPGReJINCLjQGqRSCEwGQtjBAA5CAYSIAJ+A+B6TpcICvPULqa9k4oHPdYcNzi61uJViV1qU1Cg+ke0WatvnPpX0/eY1ClYW2ufi2LYru3fQI7LyCLI4qZFRjoKh1Da///91/T/+v+ahjxtyEBgKcxkNs6/9Vt37f/////Ncp2URZqXK1B2lomCYuGdGimOAcCwCmB4ABYcDMCxD5xMR0GgwD2clUGDBgd//OExMcn1AJcAPPK3UxECNf8ZRDPpXDaxQxAEIMoENqaWShaErsZ2dyy1z8N/+dyUX52zfzsX9d7eysY67y3lLqYPjwEBIKmEjs9rIYUcgWE7EjBwkpQ5Fc2cxVXPP7f//7X//v//+eaYhUbmFzThoa4TMDrXPC4WY///0JUAKBVRtnlAnWLNNWcPAImDaIiZcYoAcG2YGYDxWAQYJok5mmo4mE0BXCFFjACAMMCoHorA7bcFAJA4DUwlw4QEDOL//OExNon2uJUAO4OuAnZZcYiCU5dXlfoJ2W5XJLGZb+WrFvn2MLXf3nhUtWMNZc+p9LalFjeNi3lhGpm93Pne/hY7/Ltffc8Y3cv0alRxCg4QKnCAfE4THGHum3//6V/////W6IjCtB4sNT2YwiNy9DXb7ETzGMU77////9/3PdI4hJf0oi7EraaYcxCY6gQYGA6YlBCY8BIai9Ob1vwAk6GghC4QGHRWDz0JNpXBYDjDQuDfA0TE0DCAYBDJw55//OExO0se/ZcAPYO3P8+aQkW0MCLWkme1P3QYAnjNSyAGGQmryba/O1al2B7GDhw01OdlDAAAGJgEWnInLWkQfYy5L8N/jc5jjlXy5vtfWWGExctZYWK84VEgwWj4lj4+ULuFxSA0gJIjC0Sxo5g0Z//+d/////tZVQ8XDgqJK5xEgPEGH6VTZG2R+YbPf/0me6vPehhk91HGU84gYPsVIN4hBsIVY/FX8SPMDEDMhQJCgBGA4UmFwKGJE9mOoPg//OExO40zAJgAO6O3ODxFYYAUx9KUFESIQAXKKAOYtgoRCYJAM7gqEGvFh9JgNKqD4iADIloDKiu5W0Yu7MxR22xOTjnk3OpdjkCLTkNNBb7lUCdaMxrOks41vuc5+rv9/98/ndd/94d//z///Pn+o0IlB0Ixe9BoPOzihjHMKDQblSg0b///////v+afaqm0Pv/RrKf/zNrc8+s/1oh58oUMFgiEy43LCYR2FBpEj9Y9bMpljLzIjsNW0VBCUmC//OExM0vo/p0AO7O3Aad8nE+8TEDUi+pxXOEQ7SX3WHNWT4/POG+hurEWfStLkBwMZLlmdBaEyNICzPQl74vOOUDhu5eUPMLIUW6JsiT4QSy/VprLWbX443df+rv7/PL//+///j+v/n//5a/9f/+VWpwEQ0YrC8s6kAuzOPg5NMMHAf3QoLPf////1NNMYxTKIc6IYcPMqOff/7dqI26dGddlHmQ9DmMVSzsxExmoxyiSRQCnX+vUqStMuEYOOAO//OExMEuK954AN7O3INEUKASGzBXYMIh6Vq/CgKMHUQqgaw+zIjY1FW0sNyY6wVqDG2kCM2ce4sVDs+AwPChaB4faswcS5xuaYWYY2NI2iv7LXgkW8s7t7+8xz//w//xb///6ez6oLzlASNdDnjFA1FiwwePGHdv////+Wlzo0bogkyxpQcTe3yX7wmwMjjLmERwLJDtqTT4ofAiVGVwsSgEGDoMGRut3HNgULCNbyLpwFIgaKiwXYQpqYaW6o2J//OExLskKt58AOaKuD1rICHmoe1iIIKHBhyAgYmGXJQCAacpQq0N+DRyDl8w+sn5EysXx+Wy5qlHnzLC9r/mNZ95b/n/l+P////5fzX79TdT1ypU44aC+ZDpJqalJEqkgYsLUwUfTNlru/////77nT6/57NrGy0Uz6Rofc0nrP+ytF11L2dnSuWTGZrVT/Qq5UjqyAa/jFwEZSBQUBBEZt+proXjwKDAgYBBpoKfmOQeTAhoTdjGJ5IKH7UFmrBG//OExN0rC45wAOcavN+3kEIQeCgjwGrkqAIoLGXlMBekMQl5jAk+z/NPUXIjJnsm2+GX/jcs/vuXP3+P//m/9vf/3pdsoiiO5QbiAA9iA9dxtY2HqIiMMf/////5k8yiIfeg+XLHTLkzFMPIOFUP6nwrYEBYJPaH4ailjkmi6mBhWgwQ1C+jAcMzCQADKamTO0JS2hgIBoqJBmE6RkCEDZFaAABZkKUIQELrQaIwc5UlY6giKoQADs2y2MJAS3La//OExOMnawZ0AObOuJiJ+eOSDwOrG5oUBQegqsY2rgKmY8bOjAk0o5hnhlEP/+U+Ov+g73X5Z/v+fv9f/6/L9///rDX/l6UnnsgIHi0gBoEGLmlUJjVnGpURDhKGBwix23////9RxkImk5xxzKNDh8mREVDBqVIFSpI4fQg7f9PNt58oqKbmojoYx+UZv9aNSt3khTI5bAT1VcXZMHB03BejQ4QZK1owGUTpopJgx5ESTAzkw4qY82BEMyFpMDDG//OExPgxu75oAO7O3DD5BU3ONnToDEoCVBiAQIm0iGl6x1egJJwcgzOSLxhQWWaceO3FK1jv3EHcpaTUoBUbIyoRWvtb//9GecUIUTOIDAMLEERtFRUYjKHWUYDoY//+tAqT3nxZVxcfFHq/1sW0VYGCwvjafVs7+AUHmSrKMgNkIUDBj1RnF4CYACC6ASKTXP5MLhwwQAUHgECTFs7AxVL0y0xKXzJwmL/hwMAxUMx00OXphoEzpCGTDYIex5oc//OExOQmIfZ0AObKmBCATBYSFgFKZIvCjXc2GXsETGadapFfAgCpArNqjQCRIYOssDAOB+RxyJRjKwbjzRzlsnaTL2nCUw0pHY6BBEcGoCQqMPDkVWFHsPIFRFMQ/qaqDimH2/9+iR////////Ws93fX3mgWYkaqjwrV9ahwuJRiwWPOlaHm3MFk1aGWvAVA6YffwsP1VCoETM8bOfnAVAoEExiIZHtlsYdBIOBhgcjmgy+blOgkDgEGB0VHYG48//OExP4yCsZoAOcQuEpIHmao50+WcSVJOrAmChZQCxGia+ydr1LuJOzIbduIRmxKJ2Gqa3Uuw1D0tvzD/QSxGIq3LWg2das8zgOJG6Ckxv85zdbH88Mtf3meeV37UvMCId1I1nQKUPuKoUSD4sU9iKkY50KYyhwTOrt////9k7ebX0////////767kEwhtVy2uuUYIFBw4YjwRboIB0coWJiEBMJMKkE5XnTWwvDgwLEYjmTPE8WWysEMdHjpD0x//OExOgtk+ZsAObK3cDy35n9OY+4GRgT8LCjww4spxXQ/VNlDctpcpXZq7lGfMKlXHmGWVp7uXvdEHSUSh6Ig1lwgwLgn2gWG77ez7Z7J9J7tksfd/Dn0xj4QJR9PcmozX2sU52smb1TJr/9pL/////+2CQOE1UXubsYQiRtgHrbBAEMhVQw6EAIEjEInNB/82ahgIDwYBjDAQMWiwRgEqh5ppifFFmfCZgI6bDohygYwOgQKMTBjJhcIDYNYMii//OExOQmgi5wAObWmOrK5E709UpZV3lWtzOg3ztTvOV+d/Pnfw7vt6NudweqxFF/G4JsOBSqptY9yuszyzYi6jNzW3O3zO6ebtrXpd3AbVex0gqJQRmdlndZivGNko6zAxqBVlvJKc3f//WOKiAVpoZ/V//lRoNGVVbWvIkmazoEWEmAYWFoG95gQDAAGBUXnAHAYtC5b0hDxEqlbzAAGMonU1YQzCQHC4gOBbOameNGURQAEZLoCgAsq4stpnFp//OExP0tUjJkAObeuGpLJdl3C13O7ZvWLuO9VabWOXdY1rWF/HHDGrvVa1cpaaXO03Rg7lNkeWen37sUFaxL6tWYqzACoXYFYnF5EiIhxGPDyw2Hw9ZixxULkaINRAjQkJjzDmNU8sTD4XO3b/////9lVjWP+qLV85f/////9uVrmaVagqBTC1XMbAkUARiFdmohAWVAo1NXzU3oXwUDTJq1N0pAxOAhUHGRkgZaHJhYDmCSOMvA5M4GicLjxnBa//OExPou89pkAOaU3RgqXLAoBGo9JHJivJvPDV3m+8x///LfOd/D+/vLm8Mvxrf3eP/hlrG7KqaGZh/ZyNupF2/jD+cv0OqagJQpABQhhjQnMaph1VmqUKOTkpCp55pMVIR6rsjyEYkg/HxIrt6f///02nvnsclfRq////79qGU0Maa55ISUSvT7IQKBYQi2QgkwvazQwxGhgVD6aWJgsESqIDdyDGiuhSKDQBHtTysZjhnmVhWDYwIQgeQaG8E8//OExPEuG95gAObU3QNISNKBbFhROkWSZTUedWpaKNTrVdfXrVvZCq9V0kzBRNlEoFY4TpoixPGblwfw2iCNyRYappup1XoOfOoIMpI3J9kTJ51mQZI5NUHMB6lIuFxazpx3/X//qXW7IM2tB1P++3///6/R0l3RaozNJeKjQ3LowdWWqFAQUOQoRYZLRnII4YXiwiYE8nRIZjQmIzw5NYDjZ+QaJGNgDXaQxMUUvLwemAqjZD8R/EEkSAlwpmha//OExOsrW95cAOUa3SmdUgZopuyToLdSDLT2+ylrprW6l31UEKTmh80SUcTU6mZjiAuLiIoOdCqiBxlYOqw8EiocUwuYVYxA8ZjMgkLCRRUo0cdnFZrod1ad9yfWqHUjhww0aw0PiQgKm3EGdFOrf/I19p//JdVbuW5zCxip1PWqlpWBAFAOJUBoDFAo0EUGhJghgQaHBtSGpliMqdJy5dBLq3D5KzwqAIjKIKTV4wlCUlJ7kFI2wprKrcDSjVKe//OExPAsC9pcANwK3E5KlL8mdcrJz32mrqZMfDNomSUoxOaGMTSnmwTxK1qBS5wQO2TEJzFFUFtQyYbQRu5oJVHHzjNSVKpLltWu4xezDJYnOcMykEatK+mcjZdeLJZHiEtcELSBb0hgxlpTkmhUxkshXXLJt1FKMsJEaU20CNTwyEulGoMMk8YPILjSGUPUo6dSqamIaPo4WxmtkE4cPFwSBQ5Tc59Y51755NPx+2A4XueIw+3eIxyad393/wgh//OExPIyZB5UANpS3R8hAghna9bng4WYg13ae7aaER+zMgwQWmpzCEVB4WF6QQ7GIkx/u/t3D3fMAYXSH/jnk9iOTC933dt7/ggQj998c8nZhhBePdrh08+H7B7XjsQiNzpsxmPvz/vt38qG//jHvY+kIbXu70zNl88MxAC3JVDAcx5pXS3nSk7XVggcIvK0xorsX4ZoqsOxmW0gHLFP5va3GLOrSanM/NFNtrkcp9RmLMZ6rUNVMbbc7zA+J7Tw//OExNsma+50AGGM3VOq5XPn15a/Emp21gIQ7BBEtwrWVOvL5e0YXr17FgvWFQLGyMvH6Qtey1dhtMJSpcSvUg6KD83DaASiTAUiMcmvrhCcJQlEo7KRkvWFkrHyPXWWByPTExi+vbVdHqWI5W1drXJgJSp62LoXbWaOn/dZWsxeyeyzy55nPOXsMo2XVrqY9na/WWrNPR1r+zK5dZo+s09trfZo6Mo6zNaret89Xt7XQJUR8EuttJJjUrksbaRL//OExPQ5lDJoAMPY3Vjb8KhjccgaIR2YwF0+UTWyxekjdOVWth1bH0XRRIUkjvLaT1UR3uLbiWi6l3B3SsGJiDbdreWaDzwJIJpJG4AIikw4uVGdfzbav5pyjioiEdsbImj113KLjcfVJOnh2pnR6XY5tOq4NrWc6Nzntdw6v/9sf1HDua64bOydR0BMcpCtx3I1mZXUFXYqVO9OhRVxeFp0QeiNsqS+VNOt8mUzYv9DLNX33BL6TAgzO9VBlFyY//OExMAnIupMAMPWuGZPbgvYSufp40naykhbjmsq0Y/YI+L0fPoMW+r1e/WMwtxneDRgSWdajiW/a+Vk9m/9b5swsOnDY1Mlb40kUtRSSULRJAGXVfLo7Nr9804semxp3fQgVLExED5YJi5QSicq4SJNMPCFQdGKUp7lZtpoG22hsU6GK9ClUsCfP17lRt+ZDLqdnLtI2l4WoSd42uxZ/XdhlSp2i5TT9leuOtKWZ7BVKpjNPc0UQYnKOZX+6Wzv//OExNYnIkI0AMPMuF4MXGdRbt3zEjvWGAWaHDqh6vqlN/UTF5aYp8QvuFsjTlHu8EgY6mjnZBFBH+lN2NcaR+EqmC/nS5l00skY05JXzdvnvrOxkO5dVsHU2tD0aj7kj/8V8/xfbTPVHd7nT5L5bzEfdeKqCv6nwU/35V43dTvhTnHfYRZRnFUBOk4Lix2V7q3pyM6uU9SU27uGUxltskUPq1q9IRUWGqjJvUJnxK0nb4mcnLvUWRpoXpOlLPiz//OExOwtFAoYAMPM3YUho+9rx3VIQYmxOKSKEVsx8y0XaWQc986tZzKk4l4o5sO9GRadkd1tjVLdFA/UWEE8lI2mUn2Rmd7mtWRglEJdyTrUWU9r5ySUIN41CZSWSpJsZu6ZzmvOnE7tVugZOnl1T0jjWXv3mo4nWP2xBJDluotVjA1CF2XtkUZltXUprXKspjP2pRBjzRmGotCkMYkpgybpA5i3HLnq+xyoe12BqN3ILvnqjlsS69l160ZhqshP//OExOorfBoMAMpM3UqtYdLtq6yp7Vq1Z+4uhefmOBhlHPHwrzE6xwElwYlD+082qJCI8HMUbluajFmVlH73VrZTQSBo0oKBUZRSZvhFFCsbFG7S91uSt0KN+03s5Kp9L7tr4YwYahKB5HMCemFWk7VH2ZVDokxckTMVCsQGmK1BlDEoMlq+OdUpE0lyxfz3R1MLlFMV8aaOQzL626STTKhCkdUbLmgPaKGHBWyiOVEj1iqzTySHYXgMqxOOJick//OExO8t3Dn8AMsM3AgtN7Myv8evBYhcvGvdnXal0RHAklaC9JJGqbLpgh2yJyva546RMjJTJskYWKTxJD4op1KOTMTJ3c140gZe4GONUW87EF6gSKPZMkadKOIDSU7zGP0/ZkqxsoHc1m8RXSNi8c0iqikurWO01G0vZqFUUenHKhH7jIsocWTicmT1KbPu/UwqfYq5UmsqbCdlFLS26Y21HyLKn0blC58maUFzmNTisSIWZiuL0SsovZeouk84//OExOotpDX0ANJM3KxdDUlCOa7Nbi+JsrJdVU4vixVKrURsD1BZ7ktxjwK+m73pWutaEKXc92pkpZLLfSo2epC0edZ0n3VJKRP9/Hacsg6E1LdNb6yNXB0N3PasJj1QlLnY2pRto//Qup05lW3jTkzzZdxaVpY9loaknGzm2ULvUjqbz0eViiuJ9S9dsVbFSYr9tU2FW/XnbdqZUHxl2tITSdonPM5HcajB0nae8g1WtuMnudTd6lSuVl7a87rD//OExOYrXDn4AMpM3HXezdzni6h1QmFnfsKSqzHolKVqyrmJ0u4IzZd+1EzmGZdEUbiknhpq68nHdsjWuiNHbqVKsiqSTm2lkPa1mpUxFy6Lotdn37gO57lHG2bCMJ2CTBqqaZZ0Rz4U221kCRBjjmKiUDjS5hfLSfu6JsoGslEJKPi2JX9yjR1dK4lzL+2u4XJZjN40dvGnmLlzmAqejcToCUmLh9VdQoWLwZGkiQ7MquTER9sjc0S04qVJi3Rd//OExOstLCn0ANMM3UGBWIFVlriw6DMZIYbAlEU5PlEgZHtJizqI2tk0eibSfL1IwpPZtkCcpHUs5rMa4cg0xasc5Ev5FtxR5u4TP20n2Y87JjXNMX4SmsT8sEshU4+rTMClMXmJ2j6VHO2zsyWuYLz8h3pIbFHvfRVXnG8wz26ytXeWSaoO5uk3bR2Ya4zawfCIXGIhBcQp4Cm7mNq1ctSpeBCRWhDQCqeVTShdWi4WmshZTJYIp/VmqVYaWOhm//OExOksdCn0ANJM3eEzKJI0KYZV5eRoiJUVrSl/UVRSyQoWTnLRp42ZklbOUeglOm4cSeZNBl5RsJovuEtbzCztbc+HLdiS5rnEs3K9eu/dFqrWjZwsac+drCQa8eMrzzUZxkv5g4GvafCJycbVVONsko3sSqyMY6L5TV2qiyOVr7/P5qE3cipOYhgCLLWILqaLTT8ReTTWox5prXmssiWyp21h334I4+geAqFxAM0iGhJ0iGUikdqFR6fHJWIJ//OExOosBDHwAMJM3Uzh9x+J5amahYbpeK2z7q5lpKmLpTOH3I3VxyhQN03Nzcz+mZn47blTUnHFxcbn7PmzTs7t/NGnCQMy4dnYsuLzcp2/+bNGlM/7TRZRVw7f9mfNmpOLLjc/2aOeLz////9vktebLf43/2aLeOztuVTs7OxpxR8bmzRtQYs2TEFNRTMuMTAwqqqqqqqqqqqqqqqqqqqqqqqqqqqqqqqqqqqqqqqqqqqqqqqqqqqqqqqqqqqq//OExO0tvBWUAMsM3aqqqqqqqqqqqqqqqqqqqqqqqqqqqqqqqqqqqqqqqqqqqqqqqqqqqqqqqqqqqqqqqqqqqqqqqqqqqqqqqqqqqqqqqqqqqqqqqqqqqqqqqqqqqqqqqqqqqqqqqqqqqqqqqqqqqqqqqqqqqqqqqqqqqqqqqqqqqqqqqqqqqqqqqqqqqqqqqqqqqqqqqqqqqqqqqqqqqqqqqqqqqqqqqqqqqqqqqqqqqqqqqqqqqqqqqqqqqqqq\" type=\"audio/x-wav\" />\n",
              "                    Your browser does not support the audio element.\n",
              "                </audio>\n",
              "              "
            ],
            "text/plain": [
              "<IPython.lib.display.Audio object>"
            ]
          },
          "metadata": {},
          "output_type": "display_data"
        }
      ],
      "source": [
        "# 영어 출력\n",
        "from gtts import gTTS\n",
        "from IPython.display import Audio\n",
        "\n",
        "eng_wav = gTTS('Hello World!')\n",
        "eng_wav.save('eng.wav')\n",
        "\n",
        "display(Audio('eng.wav', autoplay=True))"
      ]
    },
    {
      "cell_type": "code",
      "execution_count": null,
      "metadata": {
        "colab": {
          "base_uri": "https://localhost:8080/",
          "height": 75
        },
        "id": "inyZATWlP3Cp",
        "outputId": "e66e92de-ea21-43d5-eb27-cb4ddcfc0eb7"
      },
      "outputs": [
        {
          "data": {
            "text/html": [
              "\n",
              "                <audio  controls=\"controls\" autoplay=\"autoplay\">\n",
              "                    <source src=\"data:audio/x-wav;base64,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\" type=\"audio/x-wav\" />\n",
              "                    Your browser does not support the audio element.\n",
              "                </audio>\n",
              "              "
            ],
            "text/plain": [
              "<IPython.lib.display.Audio object>"
            ]
          },
          "metadata": {},
          "output_type": "display_data"
        }
      ],
      "source": [
        "# 한글 출력\n",
        "from gtts import gTTS\n",
        "from IPython.display import Audio\n",
        "\n",
        "kor_wav = gTTS('안녕하세요! ', lang = 'ko')\n",
        "kor_wav.save('kor.wav')\n",
        "\n",
        "display(Audio('kor.wav', autoplay=True))"
      ]
    },
    {
      "cell_type": "code",
      "execution_count": null,
      "metadata": {
        "colab": {
          "base_uri": "https://localhost:8080/",
          "height": 707
        },
        "id": "VdNYWRldOWow",
        "outputId": "11847c49-b5a9-42b8-db95-2a537505e87a"
      },
      "outputs": [
        {
          "data": {
            "text/html": [
              "\n",
              "                <audio  controls=\"controls\" autoplay=\"autoplay\">\n",
              "                    <source src=\"data:audio/mpeg;base64,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\" type=\"audio/mpeg\" />\n",
              "                    Your browser does not support the audio element.\n",
              "                </audio>\n",
              "              "
            ],
            "text/plain": [
              "<IPython.lib.display.Audio object>"
            ]
          },
          "metadata": {},
          "output_type": "display_data"
        },
        {
          "data": {
            "text/html": [
              "\n",
              "                <audio  controls=\"controls\" autoplay=\"autoplay\">\n",
              "                    <source src=\"data:audio/mpeg;base64,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\" type=\"audio/mpeg\" />\n",
              "                    Your browser does not support the audio element.\n",
              "                </audio>\n",
              "              "
            ],
            "text/plain": [
              "<IPython.lib.display.Audio object>"
            ]
          },
          "metadata": {},
          "output_type": "display_data"
        },
        {
          "data": {
            "text/html": [
              "\n",
              "                <audio  controls=\"controls\" autoplay=\"autoplay\">\n",
              "                    <source src=\"data:audio/mpeg;base64,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\" type=\"audio/mpeg\" />\n",
              "                    Your browser does not support the audio element.\n",
              "                </audio>\n",
              "              "
            ],
            "text/plain": [
              "<IPython.lib.display.Audio object>"
            ]
          },
          "metadata": {},
          "output_type": "display_data"
        },
        {
          "data": {
            "text/html": [
              "\n",
              "                <audio  controls=\"controls\" autoplay=\"autoplay\">\n",
              "                    <source src=\"data:audio/mpeg;base64,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\" type=\"audio/mpeg\" />\n",
              "                    Your browser does not support the audio element.\n",
              "                </audio>\n",
              "              "
            ],
            "text/plain": [
              "<IPython.lib.display.Audio object>"
            ]
          },
          "metadata": {},
          "output_type": "display_data"
        },
        {
          "data": {
            "text/html": [
              "\n",
              "                <audio  controls=\"controls\" autoplay=\"autoplay\">\n",
              "                    <source src=\"data:audio/mpeg;base64,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\" type=\"audio/mpeg\" />\n",
              "                    Your browser does not support the audio element.\n",
              "                </audio>\n",
              "              "
            ],
            "text/plain": [
              "<IPython.lib.display.Audio object>"
            ]
          },
          "metadata": {},
          "output_type": "display_data"
        },
        {
          "data": {
            "text/html": [
              "\n",
              "                <audio  controls=\"controls\" autoplay=\"autoplay\">\n",
              "                    <source src=\"data:audio/mpeg;base64,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\" type=\"audio/mpeg\" />\n",
              "                    Your browser does not support the audio element.\n",
              "                </audio>\n",
              "              "
            ],
            "text/plain": [
              "<IPython.lib.display.Audio object>"
            ]
          },
          "metadata": {},
          "output_type": "display_data"
        },
        {
          "data": {
            "text/html": [
              "\n",
              "                <audio  controls=\"controls\" autoplay=\"autoplay\">\n",
              "                    <source src=\"data:audio/mpeg;base64,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\" type=\"audio/mpeg\" />\n",
              "                    Your browser does not support the audio element.\n",
              "                </audio>\n",
              "              "
            ],
            "text/plain": [
              "<IPython.lib.display.Audio object>"
            ]
          },
          "metadata": {},
          "output_type": "display_data"
        },
        {
          "data": {
            "text/html": [
              "\n",
              "                <audio  controls=\"controls\" autoplay=\"autoplay\">\n",
              "                    <source src=\"data:audio/mpeg;base64,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\" type=\"audio/mpeg\" />\n",
              "                    Your browser does not support the audio element.\n",
              "                </audio>\n",
              "              "
            ],
            "text/plain": [
              "<IPython.lib.display.Audio object>"
            ]
          },
          "metadata": {},
          "output_type": "display_data"
        },
        {
          "data": {
            "text/html": [
              "\n",
              "                <audio  controls=\"controls\" autoplay=\"autoplay\">\n",
              "                    <source src=\"data:audio/mpeg;base64,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\" type=\"audio/mpeg\" />\n",
              "                    Your browser does not support the audio element.\n",
              "                </audio>\n",
              "              "
            ],
            "text/plain": [
              "<IPython.lib.display.Audio object>"
            ]
          },
          "metadata": {},
          "output_type": "display_data"
        },
        {
          "data": {
            "text/html": [
              "\n",
              "                <audio  controls=\"controls\" autoplay=\"autoplay\">\n",
              "                    <source src=\"data:audio/mpeg;base64,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\" type=\"audio/mpeg\" />\n",
              "                    Your browser does not support the audio element.\n",
              "                </audio>\n",
              "              "
            ],
            "text/plain": [
              "<IPython.lib.display.Audio object>"
            ]
          },
          "metadata": {},
          "output_type": "display_data"
        },
        {
          "data": {
            "text/html": [
              "\n",
              "                <audio  controls=\"controls\" autoplay=\"autoplay\">\n",
              "                    <source src=\"data:audio/mpeg;base64,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\" type=\"audio/mpeg\" />\n",
              "                    Your browser does not support the audio element.\n",
              "                </audio>\n",
              "              "
            ],
            "text/plain": [
              "<IPython.lib.display.Audio object>"
            ]
          },
          "metadata": {},
          "output_type": "display_data"
        },
        {
          "data": {
            "text/html": [
              "\n",
              "                <audio  controls=\"controls\" autoplay=\"autoplay\">\n",
              "                    <source src=\"data:audio/mpeg;base64,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\" type=\"audio/mpeg\" />\n",
              "                    Your browser does not support the audio element.\n",
              "                </audio>\n",
              "              "
            ],
            "text/plain": [
              "<IPython.lib.display.Audio object>"
            ]
          },
          "metadata": {},
          "output_type": "display_data"
        }
      ],
      "source": [
        "from gtts import gTTS\n",
        "from IPython.display import Audio, display\n",
        "import os\n",
        "import time\n",
        "\n",
        "def text_to_speech_from_file(filename):\n",
        "    with open(filename, 'r', encoding='utf-8') as file:\n",
        "        for index, line in enumerate(file):\n",
        "            line = line.strip()\n",
        "            if line:  # 빈 줄은 건너뜀\n",
        "                # 텍스트를 음성으로 변환\n",
        "                tts = gTTS(text=line, lang='ko')\n",
        "                audio_file = f\"temp_audio_{index}.mp3\"\n",
        "\n",
        "                # 음성 파일 저장\n",
        "                tts.save(audio_file)\n",
        "\n",
        "                # 음성 파일을 재생 (IPython.display.Audio 사용)\n",
        "                display(Audio(audio_file, autoplay=True))\n",
        "\n",
        "                # 음성이 끝날 때까지 잠시 대기\n",
        "                if len(line) > 12:\n",
        "                    sleep_time = 2.5\n",
        "                else:\n",
        "                    sleep_time = 2\n",
        "                time.sleep(sleep_time)  # 음성 길이에 따라 조절 가능\n",
        "\n",
        "                # 파일 삭제\n",
        "                os.remove(audio_file)\n",
        "\n",
        "                if index > 10 :\n",
        "                    break\n",
        "\n",
        "# 텍스트 파일 경로를 지정하세요.\n",
        "text_to_speech_from_file('사건의지평선.txt')\n"
      ]
    },
    {
      "cell_type": "markdown",
      "metadata": {
        "id": "3UTLuSAp8GGY"
      },
      "source": [
        "--------"
      ]
    },
    {
      "cell_type": "markdown",
      "metadata": {
        "id": "fmU7O8WS8GGY"
      },
      "source": [
        "### **[연산자]**"
      ]
    },
    {
      "cell_type": "markdown",
      "metadata": {
        "id": "eRCyhgwS8GGY"
      },
      "source": [
        "### 실습문제 :  동전 교환 프로그램\n",
        "동전교환 프로그램을 작성하세요"
      ]
    },
    {
      "cell_type": "code",
      "execution_count": null,
      "metadata": {
        "colab": {
          "base_uri": "https://localhost:8080/"
        },
        "id": "g8A7ErL78GGY",
        "outputId": "073c2e4e-8daa-454e-8ec8-eeebe8abec86"
      },
      "outputs": [
        {
          "name": "stdout",
          "output_type": "stream",
          "text": [
            "---동전교환기 프로그램을 작동합니다.---\n",
            "금액을 입력하세요: 789\n",
            "------------------------------\n",
            "500원짜리 ==> 1개\n",
            "100원짜리 ==> 2개\n",
            "50원짜리 ==> 1개\n",
            "10원짜리 ==> 3개\n",
            "잔돈 ==> 9원\n"
          ]
        }
      ],
      "source": [
        "# 키보드로부터 금액 입력 받기\n",
        "print('---동전교환기 프로그램을 작동합니다.---')\n",
        "money = int( input('금액을 입력하세요: '))\n",
        "print(f'-'*30)\n",
        "print(f'500원짜리 ==> {money // 500}개')\n",
        "money = money%500\n",
        "print(f'100원짜리 ==> {money // 100}개')\n",
        "money = money%100\n",
        "print(f'50원짜리 ==> {money // 50}개')\n",
        "money = money%50\n",
        "print(f'10원짜리 ==> {money // 10}개')\n",
        "money = money%10\n",
        "print(f'잔돈 ==> {money}원')\n"
      ]
    },
    {
      "cell_type": "code",
      "execution_count": null,
      "metadata": {
        "colab": {
          "background_save": true,
          "base_uri": "https://localhost:8080/"
        },
        "id": "PHk3Xrckj7Mn",
        "outputId": "7721e148-a509-4bbf-c639-e22c18c17fb7"
      },
      "outputs": [
        {
          "name": "stdout",
          "output_type": "stream",
          "text": [
            "---동전교환기 프로그램을 작동합니다.---\n"
          ]
        }
      ],
      "source": [
        "# 키보드로부터 금액 입력 받기\n",
        "print('---동전교환기 프로그램을 작동합니다.---')\n",
        "money = int( input('금액을 입력하세요: '))\n",
        "print(f'-'*30)\n",
        "coins = [500,100, 50, 10]\n",
        "for coin in coins:\n",
        "    print(f'{coin}원짜리 ==> {money//coin}개')\n",
        "    money = money % coin\n",
        "print(f'잔돈   ==> {money}원')"
      ]
    },
    {
      "cell_type": "code",
      "execution_count": null,
      "metadata": {
        "id": "l38v90hbjaz_"
      },
      "outputs": [],
      "source": []
    },
    {
      "cell_type": "markdown",
      "metadata": {
        "id": "7GL-zafcQwDq"
      },
      "source": [
        "### 실습문제 : 비교 연산자를 이용한 상품 필터링하기\n",
        "아래 상품 딕셔너리에서 가격이 1000 이하인 상품을 필터링하고 상품과 해당 가격을 출력하시오."
      ]
    },
    {
      "cell_type": "code",
      "execution_count": null,
      "metadata": {
        "colab": {
          "base_uri": "https://localhost:8080/"
        },
        "id": "78IAx7VkQwW_",
        "outputId": "d0274071-0555-4d36-8504-0756a6017fba"
      },
      "outputs": [
        {
          "name": "stdout",
          "output_type": "stream",
          "text": [
            "가격이 1000 이하인 상품 필터링\n",
            "------------------------------\n",
            "상품명: apple 가격:1000\n",
            "상품명: banana 가격:800\n"
          ]
        }
      ],
      "source": [
        "# 상품 가격을 가진 사전\n",
        "products = { \"apple\": 1000, \"banana\": 800, \"cherry\": 1500,\n",
        "            \"date\": 1200, \"elderberry\": 2000 }\n",
        "\n",
        "# 가격이 1000 이하인 상품 필터링\n",
        "#for key, value in products.items()\n",
        "\n",
        "products.items()\n",
        "print('가격이 1000 이하인 상품 필터링')\n",
        "print('-' * 30)\n",
        "for key, value in products.items():\n",
        "    if value <= 1000:\n",
        "        print(f'상품명: {key} 가격:{value}')"
      ]
    },
    {
      "cell_type": "markdown",
      "metadata": {
        "id": "0SWp1LN08GGY"
      },
      "source": [
        "------"
      ]
    },
    {
      "cell_type": "markdown",
      "metadata": {
        "id": "x4FIhV_y8GGZ"
      },
      "source": [
        "## 3.조건문과 반목문으로 흐름 제어하기"
      ]
    },
    {
      "cell_type": "markdown",
      "metadata": {
        "id": "LPe_skHf8GGZ"
      },
      "source": [
        "### **[조건문]**"
      ]
    },
    {
      "cell_type": "markdown",
      "metadata": {
        "id": "HIFAD_kqX1uL"
      },
      "source": [
        "#### 조건문 구조 4개"
      ]
    },
    {
      "cell_type": "code",
      "execution_count": null,
      "metadata": {
        "id": "d9jDMOjbX4hu"
      },
      "outputs": [],
      "source": [
        "# 조건식1: if 조건식\n",
        "a = 99\n",
        "if a < 100 :\n",
        "    print('a는 100보다 작군요')"
      ]
    },
    {
      "cell_type": "code",
      "execution_count": null,
      "metadata": {
        "id": "9ehdd_YIYEus"
      },
      "outputs": [],
      "source": [
        "# 조건식2: if ~ else\n",
        "a = 200\n",
        "if a > 100:\n",
        "    print('a는 100보다 크군요')\n",
        "else:\n",
        "    print('a는 100보다 크지 않군요')"
      ]
    },
    {
      "cell_type": "code",
      "execution_count": null,
      "metadata": {
        "id": "nOi_cwzoYE2u"
      },
      "outputs": [],
      "source": [
        "# 조건문3: 중첩 if - 조건문 안에 조건문\n",
        "a = 200\n",
        "if a > 100:\n",
        "    if a > 200 :\n",
        "        print('a는 200보다 크군요')\n",
        "    else:\n",
        "        print('a는 200보다 크거나 같군요')\n",
        "else:\n",
        "    print('a는 100보다 크지 않군요')"
      ]
    },
    {
      "cell_type": "code",
      "execution_count": null,
      "metadata": {
        "id": "T_P0EQFeYFBE"
      },
      "outputs": [],
      "source": [
        "# 조건문4: 다중 조건문\n",
        "pocket = ['paper', 'handphone']\n",
        "card = True\n",
        "\n",
        "if 'money' in pocket:\n",
        "    print('택시를 타고 가라')\n",
        "elif card:\n",
        "    print('택시를 타고 가라')\n",
        "else:\n",
        "    print('걸어가라')"
      ]
    },
    {
      "cell_type": "markdown",
      "metadata": {
        "id": "Io13oQKLhgph"
      },
      "source": [
        "#### 조건부 표현식"
      ]
    },
    {
      "cell_type": "code",
      "execution_count": null,
      "metadata": {
        "id": "h0V6WqWchnTA"
      },
      "outputs": [],
      "source": [
        "score = int(input('점수를 입력하세요: '))\n",
        "message = \"success!\" if score >=60 else \"failure!\"\n",
        "print(message)"
      ]
    },
    {
      "cell_type": "markdown",
      "metadata": {
        "id": "Ar6JKwtB8GGZ"
      },
      "source": [
        "#### 실습문제 : 짝수 홀수 판별하기\n",
        "숫자를 입력 받아 짝수/홀수를 판별하는 코드를 만들어 보세요."
      ]
    },
    {
      "cell_type": "code",
      "execution_count": null,
      "metadata": {
        "colab": {
          "base_uri": "https://localhost:8080/"
        },
        "id": "09w2BCcN8GGZ",
        "outputId": "f0f1b337-e115-4462-e981-e81ce9ba8c43"
      },
      "outputs": [
        {
          "name": "stdout",
          "output_type": "stream",
          "text": [
            "숫자를 입력해 주세요: 50\n",
            "50 ==> 짝수\n"
          ]
        }
      ],
      "source": [
        "x = int(input('숫자를 입력해 주세요: '))\n",
        "\n",
        "if x % 2 == 0:\n",
        "    print(f'{x} ==> 짝수')\n",
        "else:\n",
        "    print(f'{x} ==> 홀수')"
      ]
    },
    {
      "cell_type": "code",
      "execution_count": null,
      "metadata": {
        "id": "jW-Ig624q7Yt"
      },
      "outputs": [],
      "source": [
        "print('짝수')\n",
        "\n",
        "\n",
        "\n",
        "#print(f'입력된 수 : {x} ==> {\"짝수\" if x % 2 == 0 else \"홀수\"}')"
      ]
    },
    {
      "cell_type": "markdown",
      "metadata": {
        "id": "3SDdg7Aeg7MW"
      },
      "source": [
        "### 실습문제 : 커피 자판기 조건문\n",
        "아래 조건을 만족하는 커피 자동주문 머신을 만들어보세요.<br><br>\n",
        "[커피 자동주문 머신]<br>\n",
        "친구들과 현금 커피 자동주문 머신 앞에서\n",
        " - 아메리카노 2잔과 카페라테 2잔 카푸치노 1잔을 주문하였다.\n",
        " - 아메리카노 한잔에 2500원이고\n",
        " - 카페라테는 한잔에 3000원\n",
        " - 카푸치노는 한잔에 3000원이다.\n",
        "커피 종류와 잔 수를 결정한 후 현금 15000원을 투입하고 잔돈을 1000원 받았다."
      ]
    },
    {
      "cell_type": "code",
      "execution_count": null,
      "metadata": {
        "colab": {
          "base_uri": "https://localhost:8080/",
          "height": 218
        },
        "id": "B9sMcOlAtRXI",
        "outputId": "b67858a2-650e-4966-efd6-d5b6dc871a79"
      },
      "outputs": [
        {
          "ename": "NameError",
          "evalue": "name 'menu' is not defined",
          "output_type": "error",
          "traceback": [
            "\u001b[0;31m---------------------------------------------------------------------------\u001b[0m",
            "\u001b[0;31mNameError\u001b[0m                                 Traceback (most recent call last)",
            "\u001b[0;32m<ipython-input-48-fcab9babc664>\u001b[0m in \u001b[0;36m<cell line: 1>\u001b[0;34m()\u001b[0m\n\u001b[0;32m----> 1\u001b[0;31m \u001b[0mprint\u001b[0m\u001b[0;34m(\u001b[0m\u001b[0mmenu\u001b[0m\u001b[0;34m)\u001b[0m\u001b[0;34m\u001b[0m\u001b[0;34m\u001b[0m\u001b[0m\n\u001b[0m\u001b[1;32m      2\u001b[0m \u001b[0mcoffee1\u001b[0m \u001b[0;34m=\u001b[0m \u001b[0mint\u001b[0m\u001b[0;34m(\u001b[0m\u001b[0minput\u001b[0m\u001b[0;34m(\u001b[0m\u001b[0;34m\"아메리카노 몇잔?\"\u001b[0m\u001b[0;34m)\u001b[0m\u001b[0;34m)\u001b[0m\u001b[0;34m\u001b[0m\u001b[0;34m\u001b[0m\u001b[0m\n\u001b[1;32m      3\u001b[0m \u001b[0mcoffee2\u001b[0m \u001b[0;34m=\u001b[0m \u001b[0mint\u001b[0m\u001b[0;34m(\u001b[0m\u001b[0minput\u001b[0m\u001b[0;34m(\u001b[0m\u001b[0;34m\"카페라떼 몇잔?\"\u001b[0m\u001b[0;34m)\u001b[0m\u001b[0;34m)\u001b[0m\u001b[0;34m\u001b[0m\u001b[0;34m\u001b[0m\u001b[0m\n\u001b[1;32m      4\u001b[0m \u001b[0mcoffee3\u001b[0m \u001b[0;34m=\u001b[0m \u001b[0mint\u001b[0m\u001b[0;34m(\u001b[0m\u001b[0minput\u001b[0m\u001b[0;34m(\u001b[0m\u001b[0;34m\"카푸치노 몇잔?\"\u001b[0m\u001b[0;34m)\u001b[0m\u001b[0;34m)\u001b[0m\u001b[0;34m\u001b[0m\u001b[0;34m\u001b[0m\u001b[0m\n\u001b[1;32m      5\u001b[0m \u001b[0mcoffee_sum\u001b[0m \u001b[0;34m=\u001b[0m \u001b[0mcoffee1\u001b[0m\u001b[0;34m*\u001b[0m\u001b[0;36m2500\u001b[0m\u001b[0;34m+\u001b[0m\u001b[0mcoffee2\u001b[0m\u001b[0;34m*\u001b[0m\u001b[0;36m3000\u001b[0m\u001b[0;34m+\u001b[0m\u001b[0mcoffee3\u001b[0m\u001b[0;34m*\u001b[0m\u001b[0;36m3000\u001b[0m\u001b[0;34m\u001b[0m\u001b[0;34m\u001b[0m\u001b[0m\n",
            "\u001b[0;31mNameError\u001b[0m: name 'menu' is not defined"
          ]
        }
      ],
      "source": [
        "print(menu)\n",
        "coffee1 = int(input(\"아메리카노 몇잔?\"))\n",
        "coffee2 = int(input(\"카페라떼 몇잔?\"))\n",
        "coffee3 = int(input(\"카푸치노 몇잔?\"))\n",
        "coffee_sum = coffee1*2500+coffee2*3000+coffee3*3000\n",
        "\n",
        "print(f'총 금액: {coffee_sum}원')\n",
        "\n",
        "money = int(input(f'돈을 넣어주세요: '))\n",
        "\n",
        "print(f'거스름돈은 {money-coffee_sum}')"
      ]
    },
    {
      "cell_type": "code",
      "execution_count": 3,
      "metadata": {
        "id": "BZlOMJHKg7dN",
        "colab": {
          "base_uri": "https://localhost:8080/"
        },
        "outputId": "7bf80a2a-dc0d-4296-dd07-6697b22be0ab"
      },
      "outputs": [
        {
          "output_type": "stream",
          "name": "stdout",
          "text": [
            "[커피 자동주문 머신 메뉴]\n",
            "------------------------------\n",
            "-아메리카노는 2500원\n",
            "-카레라떼는 3000원\n",
            "-카푸치노는 3000원\n",
            "입니다. 원하시는 커피종류와 잔수를 입력하세요.\n",
            "------------------------------\n",
            "아메리카노 몇잔?1\n",
            "카페라떼 몇잔?1\n",
            "카푸치노 몇잔?1\n",
            "- 30\n",
            "지불해야할 금액은 총 8500 원입니다.\n",
            "돈을 넣어주세요10000\n",
            "거스름돈 [1500]원을 받으세요\n",
            "지불할 총 금액은 8500원 입니다\n"
          ]
        }
      ],
      "source": [
        "menu = '''[커피 자동주문 머신 메뉴]\n",
        "------------------------------\n",
        "-아메리카노는 2500원\n",
        "-카레라떼는 3000원\n",
        "-카푸치노는 3000원\n",
        "입니다. 원하시는 커피종류와 잔수를 입력하세요.\n",
        "------------------------------'''\n",
        "print(menu)\n",
        "coffee1 = int(input(\"아메리카노 몇잔?\"))\n",
        "coffee2 = int(input(\"카페라떼 몇잔?\"))\n",
        "coffee3 = int(input(\"카푸치노 몇잔?\"))\n",
        "print('-',*30)\n",
        "\n",
        "total = coffee1*2500 + coffee2*3000 + coffee3*3000 #전체 필요 금액\n",
        "print(f'지불해야할 금액은 총 {total} 원입니다.')\n",
        "\n",
        "money = int(input('돈을 넣어주세요')) #사용자가 입력한 금액\n",
        "if total > money :\n",
        "    # 필요한 금액보다 돈이 모자랄때\n",
        "    print(f'돈을 더 넣어주세요.[{total - money}]')\n",
        "elif total < money:\n",
        "    #거스름돈이 발생할 경우\n",
        "    print(f'거스름돈 [{money - total}]원을 받으세요')\n",
        "else:\n",
        "    print('커피 맛있게 드세요~')\n",
        "\n",
        "\n",
        "\n"
      ]
    },
    {
      "cell_type": "markdown",
      "metadata": {
        "id": "4RoolGBF8GGa"
      },
      "source": [
        "------"
      ]
    },
    {
      "cell_type": "code",
      "source": [
        "format(100000000,',')  #숫자 3자리 단위로 , 넣는 함수"
      ],
      "metadata": {
        "colab": {
          "base_uri": "https://localhost:8080/",
          "height": 35
        },
        "id": "D4yAYyc34FK9",
        "outputId": "172b7d07-89ed-46b9-b1bd-8a6a01ca8174"
      },
      "execution_count": 4,
      "outputs": [
        {
          "output_type": "execute_result",
          "data": {
            "text/plain": [
              "'100,000,000'"
            ],
            "application/vnd.google.colaboratory.intrinsic+json": {
              "type": "string"
            }
          },
          "metadata": {},
          "execution_count": 4
        }
      ]
    },
    {
      "cell_type": "markdown",
      "metadata": {
        "id": "G2T6Nybt8GGa"
      },
      "source": [
        "### **[반복문]**"
      ]
    },
    {
      "cell_type": "markdown",
      "metadata": {
        "id": "HuWJNA-T8GGa"
      },
      "source": [
        "### 실습문제 : 1~N까지 합계 구하기\n",
        "숫자를 입력받아 1~n까지의 합을 구할 때 짝수를 제외하고 합을 구하는 프로그램을 만들어 보세요."
      ]
    },
    {
      "cell_type": "code",
      "execution_count": 9,
      "metadata": {
        "id": "t4NbQOOe8GGa",
        "colab": {
          "base_uri": "https://localhost:8080/",
          "height": 368
        },
        "outputId": "014c3a01-6236-424b-a67f-2f6593d0fa78"
      },
      "outputs": [
        {
          "output_type": "error",
          "ename": "KeyboardInterrupt",
          "evalue": "Interrupted by user",
          "traceback": [
            "\u001b[0;31m---------------------------------------------------------------------------\u001b[0m",
            "\u001b[0;31mKeyboardInterrupt\u001b[0m                         Traceback (most recent call last)",
            "\u001b[0;32m<ipython-input-9-925a0bc33bac>\u001b[0m in \u001b[0;36m<cell line: 1>\u001b[0;34m()\u001b[0m\n\u001b[0;32m----> 1\u001b[0;31m \u001b[0mn\u001b[0m \u001b[0;34m=\u001b[0m \u001b[0mint\u001b[0m\u001b[0;34m(\u001b[0m\u001b[0minput\u001b[0m\u001b[0;34m(\u001b[0m\u001b[0;34m'합계를 구할 숫자 입력:'\u001b[0m\u001b[0;34m)\u001b[0m\u001b[0;34m)\u001b[0m\u001b[0;34m\u001b[0m\u001b[0;34m\u001b[0m\u001b[0m\n\u001b[0m\u001b[1;32m      2\u001b[0m \u001b[0mhap\u001b[0m \u001b[0;34m=\u001b[0m \u001b[0;36m0\u001b[0m\u001b[0;34m\u001b[0m\u001b[0;34m\u001b[0m\u001b[0m\n\u001b[1;32m      3\u001b[0m \u001b[0msum\u001b[0m \u001b[0;34m=\u001b[0m \u001b[0msum\u001b[0m\u001b[0;34m(\u001b[0m\u001b[0mi\u001b[0m \u001b[0;32mfor\u001b[0m \u001b[0mi\u001b[0m \u001b[0;32min\u001b[0m \u001b[0mrange\u001b[0m\u001b[0;34m(\u001b[0m\u001b[0;36m1\u001b[0m\u001b[0;34m,\u001b[0m \u001b[0mN\u001b[0m \u001b[0;34m+\u001b[0m \u001b[0;36m1\u001b[0m\u001b[0;34m)\u001b[0m \u001b[0;32mif\u001b[0m \u001b[0mi\u001b[0m \u001b[0;34m%\u001b[0m \u001b[0;36m2\u001b[0m \u001b[0;34m!=\u001b[0m \u001b[0;36m0\u001b[0m\u001b[0;34m)\u001b[0m\u001b[0;34m\u001b[0m\u001b[0;34m\u001b[0m\u001b[0m\n\u001b[1;32m      4\u001b[0m \u001b[0mprint\u001b[0m\u001b[0;34m(\u001b[0m\u001b[0;34mf'1~ {N}까지 짝수를 제외한 합은 {hap}'\u001b[0m\u001b[0;34m)\u001b[0m\u001b[0;34m\u001b[0m\u001b[0;34m\u001b[0m\u001b[0m\n",
            "\u001b[0;32m/usr/local/lib/python3.10/dist-packages/ipykernel/kernelbase.py\u001b[0m in \u001b[0;36mraw_input\u001b[0;34m(self, prompt)\u001b[0m\n\u001b[1;32m    849\u001b[0m                 \u001b[0;34m\"raw_input was called, but this frontend does not support input requests.\"\u001b[0m\u001b[0;34m\u001b[0m\u001b[0;34m\u001b[0m\u001b[0m\n\u001b[1;32m    850\u001b[0m             )\n\u001b[0;32m--> 851\u001b[0;31m         return self._input_request(str(prompt),\n\u001b[0m\u001b[1;32m    852\u001b[0m             \u001b[0mself\u001b[0m\u001b[0;34m.\u001b[0m\u001b[0m_parent_ident\u001b[0m\u001b[0;34m,\u001b[0m\u001b[0;34m\u001b[0m\u001b[0;34m\u001b[0m\u001b[0m\n\u001b[1;32m    853\u001b[0m             \u001b[0mself\u001b[0m\u001b[0;34m.\u001b[0m\u001b[0m_parent_header\u001b[0m\u001b[0;34m,\u001b[0m\u001b[0;34m\u001b[0m\u001b[0;34m\u001b[0m\u001b[0m\n",
            "\u001b[0;32m/usr/local/lib/python3.10/dist-packages/ipykernel/kernelbase.py\u001b[0m in \u001b[0;36m_input_request\u001b[0;34m(self, prompt, ident, parent, password)\u001b[0m\n\u001b[1;32m    893\u001b[0m             \u001b[0;32mexcept\u001b[0m \u001b[0mKeyboardInterrupt\u001b[0m\u001b[0;34m:\u001b[0m\u001b[0;34m\u001b[0m\u001b[0;34m\u001b[0m\u001b[0m\n\u001b[1;32m    894\u001b[0m                 \u001b[0;31m# re-raise KeyboardInterrupt, to truncate traceback\u001b[0m\u001b[0;34m\u001b[0m\u001b[0;34m\u001b[0m\u001b[0m\n\u001b[0;32m--> 895\u001b[0;31m                 \u001b[0;32mraise\u001b[0m \u001b[0mKeyboardInterrupt\u001b[0m\u001b[0;34m(\u001b[0m\u001b[0;34m\"Interrupted by user\"\u001b[0m\u001b[0;34m)\u001b[0m \u001b[0;32mfrom\u001b[0m \u001b[0;32mNone\u001b[0m\u001b[0;34m\u001b[0m\u001b[0;34m\u001b[0m\u001b[0m\n\u001b[0m\u001b[1;32m    896\u001b[0m             \u001b[0;32mexcept\u001b[0m \u001b[0mException\u001b[0m \u001b[0;32mas\u001b[0m \u001b[0me\u001b[0m\u001b[0;34m:\u001b[0m\u001b[0;34m\u001b[0m\u001b[0;34m\u001b[0m\u001b[0m\n\u001b[1;32m    897\u001b[0m                 \u001b[0mself\u001b[0m\u001b[0;34m.\u001b[0m\u001b[0mlog\u001b[0m\u001b[0;34m.\u001b[0m\u001b[0mwarning\u001b[0m\u001b[0;34m(\u001b[0m\u001b[0;34m\"Invalid Message:\"\u001b[0m\u001b[0;34m,\u001b[0m \u001b[0mexc_info\u001b[0m\u001b[0;34m=\u001b[0m\u001b[0;32mTrue\u001b[0m\u001b[0;34m)\u001b[0m\u001b[0;34m\u001b[0m\u001b[0;34m\u001b[0m\u001b[0m\n",
            "\u001b[0;31mKeyboardInterrupt\u001b[0m: Interrupted by user"
          ]
        }
      ],
      "source": [
        "n = int(input('합계를 구할 숫자 입력:'))\n",
        "hap = 0\n",
        "sum = sum(i for i in range(1, N + 1) if i % 2 != 0)\n",
        "print(f'1~ {N}까지 짝수를 제외한 합은 {hap}')\n"
      ]
    },
    {
      "cell_type": "code",
      "source": [
        "n = int(input('합계를 구할 숫자 입력:'))\n",
        "hap = 0\n",
        "for i in range(1, n+1, 1):  #1 <= i < n\n",
        "  if i % 2 == 1:\n",
        "        hap += i\n",
        "print(f'1~{n}까지 짝수를 제외한 합은 : {hap}')"
      ],
      "metadata": {
        "colab": {
          "base_uri": "https://localhost:8080/"
        },
        "id": "GBdf8It96sxz",
        "outputId": "719792fc-900e-4e88-a211-d109665093d0"
      },
      "execution_count": 10,
      "outputs": [
        {
          "output_type": "stream",
          "name": "stdout",
          "text": [
            "합계를 구할 숫자 입력:100\n",
            "1~100까지 짝수를 제외한 합은 : 2500\n"
          ]
        }
      ]
    },
    {
      "cell_type": "code",
      "source": [
        "n = int(input('합계를 구할 숫자 입력:'))\n",
        "hap = 0\n",
        "for i in range(1, n+1, 1):  #1 <= i < n\n",
        "    if i % 2 != 0: #짝수 제외 경우\n",
        "        hap = hap +i\n",
        "print(f'1~{n}까지의 합은(짝수제외): {hap}')"
      ],
      "metadata": {
        "colab": {
          "base_uri": "https://localhost:8080/"
        },
        "id": "3qGL48v37IAx",
        "outputId": "99fa1912-55f8-47c7-ae19-81e2aefc8841"
      },
      "execution_count": 12,
      "outputs": [
        {
          "output_type": "stream",
          "name": "stdout",
          "text": [
            "합계를 구할 숫자 입력:100\n",
            "1~100까지의 합은(짝수제외): 2500\n"
          ]
        }
      ]
    },
    {
      "cell_type": "code",
      "source": [
        "n = int(input('합계를 구할 숫자 입력:'))\n",
        "hap = 0\n",
        "for i in range(1, n+1, 2):  #1 <= i < n\n",
        "          hap = hap +i\n",
        "print(f'1~{n}까지의 합은(짝수제외): {hap}')"
      ],
      "metadata": {
        "id": "3SxtK10L-Wb7"
      },
      "execution_count": null,
      "outputs": []
    },
    {
      "cell_type": "code",
      "source": [
        "n = int(input('합계를 구할 숫자 입력:'))\n",
        "hap = sum([i for i in range(1, n+1,2)])\n",
        "print(f'1~{n}까지의 합은(짝수제외): {hap}')"
      ],
      "metadata": {
        "id": "_jYPMkPm-Wn_"
      },
      "execution_count": null,
      "outputs": []
    },
    {
      "cell_type": "code",
      "source": [
        "n = int(input('합계를 구할 숫자 입력:'))\n",
        "hap = sum( [i for i in range(1, n+1, 2)] )\n",
        "print(f'1~{n}까지의 합은(짝수제외): {hap}')"
      ],
      "metadata": {
        "id": "JnnvfTsp-WyT"
      },
      "execution_count": null,
      "outputs": []
    },
    {
      "cell_type": "markdown",
      "metadata": {
        "id": "p7P0Vy-XjIBz"
      },
      "source": [
        "### 실습문제 : 나무 열 번 찍어 넘기기"
      ]
    },
    {
      "cell_type": "code",
      "source": [
        "count = 0\n",
        "\n",
        "# while문을 이용한 반복\n",
        "while count < 10:\n",
        "    count += 1\n",
        "    print(f\"나무를 {count}번 찍었습니다.\")\n",
        "\n",
        "\n",
        "    # 나무가 10번 찍혔을 때 메시지 출력\n",
        "    if count == 10:\n",
        "        print(\"나무가 넘어갔습니다!\")"
      ],
      "metadata": {
        "colab": {
          "base_uri": "https://localhost:8080/"
        },
        "collapsed": true,
        "id": "QmnWKoC7-jm-",
        "outputId": "4b601984-9972-4a5a-c124-6617fc79dd81"
      },
      "execution_count": 18,
      "outputs": [
        {
          "output_type": "stream",
          "name": "stdout",
          "text": [
            "나무를 1번 찍었습니다.\n",
            "나무를 2번 찍었습니다.\n",
            "나무를 3번 찍었습니다.\n",
            "나무를 4번 찍었습니다.\n",
            "나무를 5번 찍었습니다.\n",
            "나무를 6번 찍었습니다.\n",
            "나무를 7번 찍었습니다.\n",
            "나무를 8번 찍었습니다.\n",
            "나무를 9번 찍었습니다.\n",
            "나무를 10번 찍었습니다.\n",
            "나무가 넘어갔습니다!\n"
          ]
        }
      ]
    },
    {
      "cell_type": "code",
      "source": [
        "count = 0\n",
        "while count < 10:\n",
        "    count += 1\n",
        "    print(f'나무를 {count}번 찍었습니다.')\n",
        "    if count == 10:\n",
        "        print('나무가 넘어갑니다!')"
      ],
      "metadata": {
        "colab": {
          "base_uri": "https://localhost:8080/"
        },
        "collapsed": true,
        "id": "Pj_szUc8-8ZH",
        "outputId": "f9cd8aa8-3d7a-47ad-c2cb-97e435b4975b"
      },
      "execution_count": 20,
      "outputs": [
        {
          "output_type": "stream",
          "name": "stdout",
          "text": [
            "나무를 1번 찍었습니다.\n",
            "나무를 2번 찍었습니다.\n",
            "나무를 3번 찍었습니다.\n",
            "나무를 4번 찍었습니다.\n",
            "나무를 5번 찍었습니다.\n",
            "나무를 6번 찍었습니다.\n",
            "나무를 7번 찍었습니다.\n",
            "나무를 8번 찍었습니다.\n",
            "나무를 9번 찍었습니다.\n",
            "나무를 10번 찍었습니다.\n",
            "나무가 넘어갑니다!\n"
          ]
        }
      ]
    },
    {
      "cell_type": "code",
      "source": [
        "treeHit = 0\n",
        "\n",
        "while True:\n",
        "    treeHit += 1\n",
        "    print(f'나무를 {treeHit}번 찍었습니다.')\n",
        "    if treeHit == 10:\n",
        "        break\n",
        "\n",
        "print('나무 넘어 갑니다~')"
      ],
      "metadata": {
        "colab": {
          "base_uri": "https://localhost:8080/"
        },
        "id": "n0Sfg2xv_9Us",
        "outputId": "dc3add50-66bb-4625-b733-c69761b86adf"
      },
      "execution_count": 22,
      "outputs": [
        {
          "output_type": "stream",
          "name": "stdout",
          "text": [
            "나무를 1번 찍었습니다.\n",
            "나무를 2번 찍었습니다.\n",
            "나무를 3번 찍었습니다.\n",
            "나무를 4번 찍었습니다.\n",
            "나무를 5번 찍었습니다.\n",
            "나무를 6번 찍었습니다.\n",
            "나무를 7번 찍었습니다.\n",
            "나무를 8번 찍었습니다.\n",
            "나무를 9번 찍었습니다.\n",
            "나무를 10번 찍었습니다.\n",
            "나무 넘어 갑니다~\n"
          ]
        }
      ]
    },
    {
      "cell_type": "markdown",
      "metadata": {
        "id": "iPCnjI9UkoHr"
      },
      "source": [
        "### 실습문제 :  커피 자동주문 프로그램 업그레이드\n",
        "앞에서 만들어 본 커피 자동주문 머신 프로그램을 while문을 이용하여 돈을 모두 지불할 때까지 돈을 입력 받도록 프로그램 기능 수정하기"
      ]
    },
    {
      "cell_type": "code",
      "execution_count": null,
      "metadata": {
        "id": "HtKho6P3kxtS"
      },
      "outputs": [],
      "source": [
        "menu = '''[커피 자동주문 머신 메뉴]\n",
        "------------------------------\n",
        "-아메리카노는 2500원\n",
        "-카레라떼는 3000원\n",
        "-카푸치노는 3000원\n",
        "입니다. 원하시는 커피종류와 잔수를 입력하세요.\n",
        "------------------------------'''\n",
        "print(menu)\n",
        "coffee1 = int(input(\"아메리카노 몇잔?\"))\n",
        "coffee2 = int(input(\"카페라떼 몇잔?\"))\n",
        "coffee3 = int(input(\"카푸치노 몇잔?\"))\n",
        "\n"
      ]
    },
    {
      "cell_type": "code",
      "source": [
        "menu = '''[커피 자동주문 머신 메뉴]\n",
        "------------------------------\n",
        "-아메리카노는 2500원\n",
        "-카레라떼는 3000원\n",
        "-카푸치노는 3000원\n",
        "입니다. 원하시는 커피종류와 잔수를 입력하세요.\n",
        "------------------------------'''\n",
        "print(menu)\n",
        "coffee1 = int(input(\"아메리카노 몇잔?\"))\n",
        "coffee2 = int(input(\"카페라떼 몇잔?\"))\n",
        "coffee3 = int(input(\"카푸치노 몇잔?\"))\n",
        "print('-' * 30)\n",
        "\n",
        "total = coffee1*2500 + coffee2*3000 + coffee3*3000 # 전체 필요 금액\n",
        "print(f'지불해야할 금액은 총 {total} 원입니다.')\n",
        "\n",
        "money = int(input('돈을 넣어주세요: '))  # 사용자가 입력한 금액\n",
        "while True:\n",
        " total > money :\n",
        "    print(f'돈을 더 넣어주세요: [{total - money}]')\n",
        "    print(f'입력한 금액이 부족합니다' [{total - money}]원을 더 넣어주세요.)\n",
        "\n",
        "\n",
        "else:\n",
        "    print('커피 맛있게 드세요~')"
      ],
      "metadata": {
        "id": "3YxbSmOtCct8"
      },
      "execution_count": null,
      "outputs": []
    },
    {
      "cell_type": "code",
      "source": [
        "menu = '''[커피 자동주문 머신 메뉴]\n",
        "------------------------------\n",
        "-아메리카노는 2500원\n",
        "-카레라떼는 3000원\n",
        "-카푸치노는 3000원\n",
        "입니다. 원하시는 커피종류와 잔수를 입력하세요.\n",
        "------------------------------'''\n",
        "print(menu)\n",
        "coffee1 = int(input(\"아메리카노 몇잔?\"))\n",
        "coffee2 = int(input(\"카페라떼 몇잔?\"))\n",
        "coffee3 = int(input(\"카푸치노 몇잔?\"))\n",
        "print('-',*30)\n",
        "\n",
        "total = coffee1*2500 + coffee2*3000 + coffee3*3000 #전체 필요 금액\n",
        "print(f'지불해야할 금액은 총 {total} 원입니다.')\n",
        "\n",
        "while True:\n",
        "    print('-'*30)\n",
        "    money = int(input(f'돈을 넣어주세요')) #사용자가 입력한 금액\n",
        "if total > money :\n",
        "    # 필요한 금액보다 돈이 모자랄때\n",
        "    print(f'돈을 더 넣어주세요.[{total - money}]')\n",
        "elif total < money:\n",
        "    #거스름돈이 발생할 경우\n",
        "    print(f'거스름돈 [{money - total}]원을 받으세요')\n",
        "else:\n",
        "    print('커피 맛있게 드세요~')\n"
      ],
      "metadata": {
        "id": "j7VHxTnwD-pp"
      },
      "execution_count": null,
      "outputs": []
    },
    {
      "cell_type": "code",
      "source": [
        "menu = '''[커피 자동주문 머신 메뉴]\n",
        "------------------------------\n",
        "-아메리카노는 2500원\n",
        "-카레라떼는 3000원\n",
        "-카푸치노는 3000원\n",
        "입니다. 원하시는 커피종류와 잔수를 입력하세요.\n",
        "------------------------------'''\n",
        "print(menu)\n",
        "coffee1 = int(input(\"아메리카노 몇잔?\"))\n",
        "coffee2 = int(input(\"카페라떼 몇잔?\"))\n",
        "coffee3 = int(input(\"카푸치노 몇잔?\"))\n",
        "print('-' * 30)\n",
        "\n",
        "total = coffee1*2500 + coffee2*3000 + coffee3*3000 # 전체 필요 금액\n",
        "print(f'지불해야할 금액은 총 {total} 원입니다.')\n",
        "\n",
        "while True:\n",
        "    print('-' * 30)\n",
        "    money = int(input(f'[지불할 금액:{total}] : 돈을 넣어주세요: '))  # 사용자가 입력한 금액\n",
        "    if total > money :\n",
        "        # 필요한 금액보다 돈이 모자랄때\n",
        "        print(f'돈을 더 넣어주세요.[{total - money}]원 이 더 필요합니다.')\n",
        "    elif total < money:\n",
        "        # 거스름돈이 발생할 경우\n",
        "        print(f'거스름돈 [{money - total}]원을 받으세요.')\n",
        "        break\n",
        "    total = total - money\n",
        "print('-' * 30)\n",
        "print('커피 맛있게 드세요~')"
      ],
      "metadata": {
        "id": "Q8xpgzg1GLJ-"
      },
      "execution_count": null,
      "outputs": []
    },
    {
      "cell_type": "code",
      "source": [
        "f'{1000: ,}'  #쉼표 넣는 법 fr.광수샘"
      ],
      "metadata": {
        "colab": {
          "base_uri": "https://localhost:8080/",
          "height": 35
        },
        "id": "Pf1KoH2kGT9N",
        "outputId": "84c31b39-7054-4cdb-da23-7ca3c7824328"
      },
      "execution_count": 24,
      "outputs": [
        {
          "output_type": "execute_result",
          "data": {
            "text/plain": [
              "' 1,000'"
            ],
            "application/vnd.google.colaboratory.intrinsic+json": {
              "type": "string"
            }
          },
          "metadata": {},
          "execution_count": 24
        }
      ]
    },
    {
      "cell_type": "code",
      "source": [
        "import random\n",
        "print(f'1~100까지 중 임의의 숫자 발생: {random.randint(1,101)}')\n",
        "print(f'꿈의 수 6개: {random.sample(range(1,46), 6)}')"
      ],
      "metadata": {
        "colab": {
          "base_uri": "https://localhost:8080/"
        },
        "id": "baaQjP8qGmDe",
        "outputId": "2416694e-2b38-4c00-d17f-4c7a0e87d6c4"
      },
      "execution_count": 30,
      "outputs": [
        {
          "output_type": "stream",
          "name": "stdout",
          "text": [
            "1~100까지 중 임의의 숫자 발생: 73\n",
            "꿈의 수 6개: [14, 8, 25, 30, 42, 9]\n"
          ]
        }
      ]
    },
    {
      "cell_type": "code",
      "source": [],
      "metadata": {
        "id": "-lwmSbaTJ79a"
      },
      "execution_count": null,
      "outputs": []
    },
    {
      "cell_type": "markdown",
      "metadata": {
        "id": "bBpYo7he8GGc"
      },
      "source": [
        "### 실습문제 : 도둑잡기 게임 만들기\n",
        "경찰에 쫓기던 범인이 3개의 방 중에 한 곳에 숨어버렸습니다. 범인은 방문을 열 때마다 무작위로 3개의 방 중 하나의 방으로 이동합니다. 3개의 방 중 하나의 방을 선택했을 때 범인이 있다면 100점, 없을 때 -10점을 부여하고 범인을 잡으면 게임을 종료하는 프로그램을 만들어 보세요."
      ]
    },
    {
      "cell_type": "code",
      "source": [
        "import random\n",
        "score = 0\n",
        "\n",
        "while True:  # 무한반복\n",
        "    # 1.무작위로 범인 방 배치\n",
        "    room = random.randint(1, 3)\n",
        "\n",
        "    # 2.사용자로부터 방 번호 입력 받기\n",
        "    n = int(input('방 번호를 입력하세요(1,2,3): '))\n",
        "\n",
        "    # 3.사용자가 입력한 방 번호와 범인이 있는 방 비교\n",
        "    if room == n :# 4.범인을 찾으면\n",
        "        print('범인 체포!') # 범인 체포\"라는 메시지 출력\n",
        "        score += 100        # 점수 증가\n",
        "        break               # 무한반복 빠져 나가기\n",
        "\n",
        "    else: # 5.범인을 찾지 못하면\n",
        "        print('범인을 찾지 못했다!') # \"범인을 찾지 못했다\"라는 메시지 출력\n",
        "        score -= 10                  # 점수 감소\n",
        "\n",
        "print('게임 종료!')  # 게임 종료 메시지 출력\n",
        "print(f'최종 점수: {score}')# 최종 점수 출력"
      ],
      "metadata": {
        "id": "oa31BXkaNRFL"
      },
      "execution_count": null,
      "outputs": []
    },
    {
      "cell_type": "code",
      "source": [
        "import random\n",
        "score = 0\n",
        "\n",
        "while True:\n",
        "     room = random.randint(1, 3)\n",
        "     n = int(input('방 번호를 입력하세요(1,2,3): '))\n",
        "\n",
        "     room = random.randint(1, 3)\n",
        "\n",
        "    # 범인을 찾은 경우\n",
        "    if n == room:\n",
        "       score += 100\n",
        "       print(\"범인을 찾았습니다! 게임을 종료합니다.\")\n",
        "       print(f\"최종 점수: {score}점\")\n",
        "       break\n",
        "    else:\n",
        "        score -= 10\n",
        "        print(\"범인이 없습니다. 점수가 10점 감소합니다.\")\n",
        "        print(f\"현재 점수: {score}점\")"
      ],
      "metadata": {
        "colab": {
          "base_uri": "https://localhost:8080/",
          "height": 109
        },
        "id": "G195AvciKasd",
        "outputId": "6bed9bbd-5393-40c6-a6f9-14ddd46de475"
      },
      "execution_count": 32,
      "outputs": [
        {
          "output_type": "error",
          "ename": "IndentationError",
          "evalue": "unindent does not match any outer indentation level (<tokenize>, line 11)",
          "traceback": [
            "\u001b[0;36m  File \u001b[0;32m\"<tokenize>\"\u001b[0;36m, line \u001b[0;32m11\u001b[0m\n\u001b[0;31m    if n == room:\u001b[0m\n\u001b[0m    ^\u001b[0m\n\u001b[0;31mIndentationError\u001b[0m\u001b[0;31m:\u001b[0m unindent does not match any outer indentation level\n"
          ]
        }
      ]
    },
    {
      "cell_type": "code",
      "source": [],
      "metadata": {
        "id": "f-ZiilZrLnR0"
      },
      "execution_count": null,
      "outputs": []
    },
    {
      "cell_type": "markdown",
      "metadata": {
        "id": "FTX-Fvb28GGc"
      },
      "source": [
        "------"
      ]
    },
    {
      "cell_type": "markdown",
      "metadata": {
        "id": "8tdBEUuy8GGe"
      },
      "source": [
        "## 4.함수를 이용하여 알고리즘 만들기"
      ]
    },
    {
      "cell_type": "markdown",
      "metadata": {
        "id": "A50BCkk98GGe"
      },
      "source": [
        "### **[함수 & 모듈]**"
      ]
    },
    {
      "cell_type": "code",
      "execution_count": 1,
      "metadata": {
        "id": "3gNw75bI8GGe",
        "colab": {
          "base_uri": "https://localhost:8080/"
        },
        "outputId": "790d1f2b-4664-49c1-a521-3bfa65f2227c"
      },
      "outputs": [
        {
          "output_type": "execute_result",
          "data": {
            "text/plain": [
              "53"
            ]
          },
          "metadata": {},
          "execution_count": 1
        }
      ],
      "source": [
        "def nSum(a, b):\n",
        "    c = a + b\n",
        "    return c\n",
        "\n",
        "nSum(50, 3)"
      ]
    },
    {
      "cell_type": "markdown",
      "metadata": {
        "id": "ZH2oJDOzmgta"
      },
      "source": [
        "####  함수의 구조\n",
        "매개변수와 리턴값에 따른 함수의 유형 예"
      ]
    },
    {
      "cell_type": "markdown",
      "metadata": {
        "id": "ZVu_uCmBmwX9"
      },
      "source": [
        "- 매개변수(X), 리턴값(X)"
      ]
    },
    {
      "cell_type": "code",
      "execution_count": null,
      "metadata": {
        "id": "PhoFdGdpmg2i"
      },
      "outputs": [],
      "source": [
        "def func():\n",
        "    print('안녕하세요!')\n",
        "\n",
        "print( func() )"
      ]
    },
    {
      "cell_type": "markdown",
      "metadata": {
        "id": "rYJvu1mKm1lA"
      },
      "source": [
        "- 매개변수(X), 리턴값(O)"
      ]
    },
    {
      "cell_type": "code",
      "execution_count": null,
      "metadata": {
        "id": "RtmltcdOm1sg"
      },
      "outputs": [],
      "source": [
        "def func():\n",
        "    print('안녕하세요!')\n",
        "    return '처리완료!'\n",
        "\n",
        "print( func() )"
      ]
    },
    {
      "cell_type": "markdown",
      "metadata": {
        "id": "kAiXc3qom1zq"
      },
      "source": [
        "- 매개변수(O), 리턴값(X)"
      ]
    },
    {
      "cell_type": "code",
      "execution_count": null,
      "metadata": {
        "id": "mdneVBp_m16L"
      },
      "outputs": [],
      "source": [
        "def func(a, b):\n",
        "    print('덧셈: %d + %d = %d' % (a, b, a+b))\n",
        "\n",
        "print( func(5, 7) )"
      ]
    },
    {
      "cell_type": "markdown",
      "metadata": {
        "id": "UWx5mc2Bm2Ah"
      },
      "source": [
        "- 매개변수(O), 리턴값(O)"
      ]
    },
    {
      "cell_type": "code",
      "execution_count": null,
      "metadata": {
        "id": "u40Eqnc1m2IB"
      },
      "outputs": [],
      "source": [
        "def func(a, b):\n",
        "    print('덧셈: %d + %d = %d' % (a, b, a+b))\n",
        "    return a+b\n",
        "\n",
        "print( func(5, 7) )"
      ]
    },
    {
      "cell_type": "markdown",
      "metadata": {
        "id": "Oq6XLdiqm9lV"
      },
      "source": [
        "### 실습문제 : 암스트롱수 판별 함수\n",
        "다음 조건을 참고하여 암스트롱수를 구하는 함수를 만들어 출력하는 프로그램을 만들어 보세요.\n",
        "- **암스트롱수** : 세 자리의 정수 중에서 각 자리의 수를 세 제곱한 수의 합과 자신이 같은 수"
      ]
    },
    {
      "cell_type": "code",
      "execution_count": null,
      "metadata": {
        "id": "DvFLshFqm9t8"
      },
      "outputs": [],
      "source": [
        "def is_armstringNumber(N):\n",
        "\n",
        "\n",
        "\n",
        "\n",
        "for i in range(100, 1000):\n",
        "    if is_armstringNumber(i):\n",
        "        print(\"[%i] is armstrong number\" % i)"
      ]
    },
    {
      "cell_type": "markdown",
      "metadata": {
        "id": "Kvzu_J_a8GGf"
      },
      "source": [
        "### 실습문제 : 환전 계산 함수\n",
        "아래 조건을 만족하는 환전계산 함수를 만들어 보세요."
      ]
    },
    {
      "cell_type": "code",
      "execution_count": 33,
      "metadata": {
        "id": "x1jdgfzq8GGf",
        "scrolled": true,
        "colab": {
          "base_uri": "https://localhost:8080/",
          "height": 109
        },
        "outputId": "05a0f86a-2445-4fa3-f2f8-ab5c13d37748"
      },
      "outputs": [
        {
          "output_type": "error",
          "ename": "IndentationError",
          "evalue": "expected an indented block after function definition on line 1 (<ipython-input-33-58ec9c61f32a>, line 5)",
          "traceback": [
            "\u001b[0;36m  File \u001b[0;32m\"<ipython-input-33-58ec9c61f32a>\"\u001b[0;36m, line \u001b[0;32m5\u001b[0m\n\u001b[0;31m    countrys = {'미국':['달러', 1182.5],\u001b[0m\n\u001b[0m    ^\u001b[0m\n\u001b[0;31mIndentationError\u001b[0m\u001b[0;31m:\u001b[0m expected an indented block after function definition on line 1\n"
          ]
        }
      ],
      "source": [
        "def moneyExchange(m, c):\n",
        "\n",
        "\n",
        "\n",
        "countrys = {'미국':['달러', 1182.5],\n",
        "            '중국':['위안', 169.22],\n",
        "            '유럽':['유로', 1286.74],\n",
        "            '일본':['엔', 1078.14]}\n",
        "money = int(input('환전 금액(원)을 입력하세요: '))\n",
        "country = input('국가를 입력하세요: ')\n",
        "print('-'*30)\n",
        "moneyExchange(money, country)"
      ]
    },
    {
      "cell_type": "code",
      "source": [
        "def moneyExchange(m, c):\n",
        "    m_code = countrys[c][0]   # 통화\n",
        "    m_rate = countrys[c][1]   # 매미기준율\n",
        "    result =  round(m / m_rate, 1)   # 환전금액\n",
        "\n",
        "    return result, m_code, m_rate\n",
        "\n",
        "countrys = {'미국':['달러', 1362.5],\n",
        "            '중국':['위안', 191.21],\n",
        "            '유럽':['유로', 1483.76],\n",
        "            '일본':['엔', 913.02]}\n",
        "money = int(input('환전 금액(원)을 입력하세요: '))\n",
        "country = input('국가를 입력하세요: ')\n",
        "print('-'*30)\n",
        "result, m_code, m_rate = moneyExchange(money, country)\n",
        "print(f'원화 {money:,}원을 {country} 돈으로 환전하면 {result} {m_code}입니다.')"
      ],
      "metadata": {
        "colab": {
          "base_uri": "https://localhost:8080/"
        },
        "id": "CY3HhS3Zo_f4",
        "outputId": "20c39cc9-57fd-416b-dcf6-4fdc281e8b52"
      },
      "execution_count": 37,
      "outputs": [
        {
          "output_type": "stream",
          "name": "stdout",
          "text": [
            "환전 금액(원)을 입력하세요: 10000\n",
            "국가를 입력하세요: 중국\n",
            "------------------------------\n",
            "원화 10,000원을 중국 돈으로 환전하면 52.3 위안입니다.\n"
          ]
        }
      ]
    },
    {
      "cell_type": "markdown",
      "metadata": {
        "id": "jcBxboxauPTJ"
      },
      "source": [
        "\n",
        "\n",
        "---\n",
        "\n"
      ]
    },
    {
      "cell_type": "markdown",
      "metadata": {
        "id": "Ajjvg18_8GGg"
      },
      "source": [
        "### 5.ChatGPT와 페어프로그래밍하기"
      ]
    },
    {
      "cell_type": "markdown",
      "metadata": {
        "id": "LgP7QlUCtw9A"
      },
      "source": [
        "### 실습문제 : 영어 단어장 만들기\n",
        "아래 조건을 만족시키는 <영어단어장 만들기> 프로그램을 만들어 보세요.\n",
        "\n",
        "영단어는 key, 그의 뜻은 value 로 두는 dictionary 를 만드세요.<br>\n",
        "<메뉴>\n",
        " - 1. 단어 등록\n",
        " - 2. 단어 검색\n",
        " - 3. 단어 삭제\n",
        " - 4. 모든 단어 보기\n",
        " - 0. 종료하기\n",
        "\n",
        "1. 단어 등록 <br>\n",
        "    새 영단어와 그의 뜻을 입력 받고 dictionary 에 추가합니다.\n",
        "\n",
        "2. 단어 검색<br>\n",
        "    영단어를 입력 받아 그의 뜻을 출력합니다.<br>\n",
        "    미등록된 단어인 경우 '미등록 단어'를 출력합니다.\n",
        "    \n",
        "3. 단어 삭제<br>\n",
        "    영단어를 입력 받아 단어장에서 해당 단어를 삭제한다.<br>\n",
        "    미등록된 단어인 경우 '미등록 단어'를 출력합니다\n",
        "    \n",
        "4. 모든 단어 보기<br>\n",
        "    현재 등록되어 있는 모든 단어와 뜻을 출력합니다.\n",
        "\n",
        "0. 종료하기"
      ]
    },
    {
      "cell_type": "code",
      "execution_count": null,
      "metadata": {
        "id": "eZLiY8m-txGd"
      },
      "outputs": [],
      "source": [
        "menu = '''---선택메뉴--\n",
        "1. 단어 등록\n",
        "2. 단어 검색\n",
        "3. 단어 삭제\n",
        "4. 모든 단어 보기\n",
        "0. 종료하기\n",
        "------------------------------'''\n",
        "\n",
        "# 빈 딕셔너리를 만든다. (반복문 안에 넣지 않는다!)\n",
        "wordbook = {}\n",
        "\n",
        "def addBook():\n",
        "\n",
        "\n",
        "def searchBook():\n",
        "\n",
        "\n",
        "def deleteBook():\n",
        "\n",
        "\n",
        "def showAllBook():\n",
        "\n",
        "\n"
      ]
    },
    {
      "cell_type": "markdown",
      "metadata": {
        "id": "SD7IuCtyEfxZ"
      },
      "source": [
        "\n",
        "\n",
        "---\n",
        "THE END\n",
        "\n"
      ]
    },
    {
      "cell_type": "markdown",
      "metadata": {
        "id": "RQoDVEJ38GGg"
      },
      "source": [
        "------"
      ]
    }
  ],
  "metadata": {
    "colab": {
      "provenance": [],
      "include_colab_link": true
    },
    "kernelspec": {
      "display_name": "Python 3 (ipykernel)",
      "language": "python",
      "name": "python3"
    },
    "language_info": {
      "codemirror_mode": {
        "name": "ipython",
        "version": 3
      },
      "file_extension": ".py",
      "mimetype": "text/x-python",
      "name": "python",
      "nbconvert_exporter": "python",
      "pygments_lexer": "ipython3",
      "version": "3.10.9"
    }
  },
  "nbformat": 4,
  "nbformat_minor": 0
}